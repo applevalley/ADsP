{
 "cells": [
  {
   "cell_type": "markdown",
   "metadata": {},
   "source": [
    "패키지 설치 -> install.packages(\"패키지 이름\") 설치 후 패키지를 R콘솔에 불러와야 함수 등을 사용할 수 있다!"
   ]
  },
  {
   "cell_type": "markdown",
   "metadata": {},
   "source": [
    "## 벡터"
   ]
  },
  {
   "cell_type": "markdown",
   "metadata": {},
   "source": [
    "벡터의 데이터 구조? -> 하나의 스칼라값/ 하나 이상의 스칼라 원소를 가지는 단순 형태 집합\n",
    " -> 벡터 데이터 내에 들어가는 원소는 숫자, 문자, 논리 연산자 등"
   ]
  },
  {
   "cell_type": "markdown",
   "metadata": {},
   "source": [
    "R의 데이터 구조 중 가장 단순... c 명령어를 통해 선언 가능!"
   ]
  },
  {
   "cell_type": "markdown",
   "metadata": {},
   "source": [
    "x = c(1,2,4,6) # 숫자 벡터"
   ]
  },
  {
   "cell_type": "markdown",
   "metadata": {},
   "source": [
    "y = c(\"김\",\"이\",\"박\") # 문자 벡터"
   ]
  },
  {
   "cell_type": "markdown",
   "metadata": {},
   "source": [
    "z = c(TRUE,FALSE,TRUE) # 논리 연산자 벡터"
   ]
  },
  {
   "cell_type": "markdown",
   "metadata": {},
   "source": [
    "=> R은 대,소문자 구분한다! 논리 연산자의 경우 전부 대문자로 입력해줘야.. 등호 =는 더 직관적으로 변수 <- 연산자 이렇게도 쓸 수 있다!"
   ]
  },
  {
   "cell_type": "markdown",
   "metadata": {},
   "source": [
    "벡터를 결합해 새로 만들수도 있다.. 합치는 벡터에 문자형 벡터가 포함된다면 합쳐지는 벡터는 문자형 벡터가 된다! xy = c(x,y).. 합쳐진 xy벡터는 x벡터의 숫자값을 그대로 가지지만 문자형 벡터로 전환되었기에 이 값들을 문자 데이터로 인식한다!\n"
   ]
  },
  {
   "cell_type": "markdown",
   "metadata": {},
   "source": [
    "## 행렬"
   ]
  },
  {
   "cell_type": "markdown",
   "metadata": {},
   "source": [
    "행/열 가지는 m x n 형태의 직사각형에 데이터 나열한 구조. 선언을 위해 matrix 명령어 사용! 첫 인수는 행렬에 들어갈 데이터를 묶은 벡터가 할당됨.\n"
   ]
  },
  {
   "cell_type": "markdown",
   "metadata": {},
   "source": [
    "ncol/nrow 옵션으로 열/행 수를 정한다. 행렬의 크기 마음대로 지정 가능 한 유형의 스칼라만... 1열 숫자 2열 문자열 형태 사용X\n",
    "값은 열을 우선으로 채운다.. \n"
   ]
  },
  {
   "cell_type": "markdown",
   "metadata": {},
   "source": [
    "mx = matrix(c(1,2,3,4,5,6), ncol = 2)"
   ]
  },
  {
   "cell_type": "markdown",
   "metadata": {},
   "source": [
    "mx"
   ]
  },
  {
   "cell_type": "markdown",
   "metadata": {},
   "source": [
    "[,1] [,2]  #  행렬형 변수 mx는 6개의 원소를 가지며 ncol=2 옵션으로 2열짜리 행열이 된다. "
   ]
  },
  {
   "cell_type": "markdown",
   "metadata": {},
   "source": [
    "[1,]\t   1\t4 #만일 열이 아닌 행을 우선으로 채우려면 -> byrow=T 옵션을 추가!"
   ]
  },
  {
   "cell_type": "markdown",
   "metadata": {},
   "source": [
    "[2,]\t   2\t5 # 이미 만들어진 행렬에는 dimnames()를 사용해 행과 열에 이름을 부여할 수 있다."
   ]
  },
  {
   "cell_type": "markdown",
   "metadata": {},
   "source": [
    "[3,]\t   3\t6"
   ]
  },
  {
   "cell_type": "markdown",
   "metadata": {},
   "source": [
    "rbind,cbind 명령어 통해 벡터를 서로 합쳐 행렬을 만들 수 있음! rbind의 r은 row / c는 column. 기존 행렬에 행/열 추가해 데이터 결합한다.\n"
   ]
  },
  {
   "cell_type": "markdown",
   "metadata": {},
   "source": [
    "r1 = c(10, 10)"
   ]
  },
  {
   "cell_type": "markdown",
   "metadata": {},
   "source": [
    "c1 = c(20, 20, 20)"
   ]
  },
  {
   "cell_type": "markdown",
   "metadata": {},
   "source": [
    "rbind(mx, r1)"
   ]
  },
  {
   "cell_type": "markdown",
   "metadata": {},
   "source": [
    "   [,1] [,2]"
   ]
  },
  {
   "cell_type": "markdown",
   "metadata": {},
   "source": [
    "    1 4"
   ]
  },
  {
   "cell_type": "markdown",
   "metadata": {},
   "source": [
    "    2 5"
   ]
  },
  {
   "cell_type": "markdown",
   "metadata": {},
   "source": [
    "    3 6"
   ]
  },
  {
   "cell_type": "markdown",
   "metadata": {},
   "source": [
    "r1   10   10\n"
   ]
  },
  {
   "cell_type": "markdown",
   "metadata": {},
   "source": [
    "cbind(mx, c1)"
   ]
  },
  {
   "cell_type": "markdown",
   "metadata": {},
   "source": [
    "       c1"
   ]
  },
  {
   "cell_type": "markdown",
   "metadata": {},
   "source": [
    "[1,] 1 4 20"
   ]
  },
  {
   "cell_type": "markdown",
   "metadata": {},
   "source": [
    "[2,] 2 5 20"
   ]
  },
  {
   "cell_type": "markdown",
   "metadata": {},
   "source": [
    "[3,] 3 6 20\n"
   ]
  },
  {
   "cell_type": "markdown",
   "metadata": {},
   "source": [
    "행렬-벡터 뿐 아니라 벡터-벡터로도 새 행렬 형성 가능!  합쳐지는 벡터들의 행/열 수 파악하여 사용 "
   ]
  },
  {
   "cell_type": "markdown",
   "metadata": {},
   "source": [
    "같은 데이터 타입의 벡터는 행렬으로 합쳐주지만 데이터 프레임을 합치는 경우에는 그대로 데이터 프레임 형태로 합쳐준다!"
   ]
  },
  {
   "cell_type": "markdown",
   "metadata": {},
   "source": [
    "rbind(y,z)"
   ]
  },
  {
   "cell_type": "markdown",
   "metadata": {},
   "source": [
    "  [,1]   [,2]    [,3]  "
   ]
  },
  {
   "cell_type": "markdown",
   "metadata": {},
   "source": [
    "y \"김\"   \"이\"    \"박\"  "
   ]
  },
  {
   "cell_type": "markdown",
   "metadata": {},
   "source": [
    "z \"TRUE\" \"FALSE\" \"TRUE\""
   ]
  },
  {
   "cell_type": "markdown",
   "metadata": {},
   "source": [
    "## 데이터 프레임"
   ]
  },
  {
   "cell_type": "markdown",
   "metadata": {},
   "source": [
    "행렬과 비슷한 2차원 목록 데이터 구조. 다루기 쉽고 한 번에 많은 정보 담아 R에서 가장 많이 사용됨."
   ]
  },
  {
   "cell_type": "markdown",
   "metadata": {},
   "source": [
    "행렬과는 다르게 각 열이 서로 다른 데이터 타입 가짐! 데이터 커져도 다루기 수월."
   ]
  },
  {
   "cell_type": "markdown",
   "metadata": {},
   "source": [
    "data.frame 명령어로 여러 개의 벡터를 하나의 데이터 프레임으로 합쳐 입력한다!"
   ]
  },
  {
   "cell_type": "markdown",
   "metadata": {},
   "source": [
    "income = c(100, 200, 150, 300, 900)                                  #  income벡터 = 숫자형 벡터"
   ]
  },
  {
   "cell_type": "markdown",
   "metadata": {},
   "source": [
    "car = c(\"kia\", \"hyundai\", \"kia\", \"toyota\", \"lexus\")                    # car벡터 = 문자형 벡터"
   ]
  },
  {
   "cell_type": "markdown",
   "metadata": {},
   "source": [
    "marriage = c(FALSE, FALSE, FALSE, TRUE, TRUE)                     #     marriage벡터 = 논리 연산자 벡터"
   ]
  },
  {
   "cell_type": "markdown",
   "metadata": {},
   "source": [
    "mydat = data.frame(income, car, marriage)                      #        하나의 데이터 프레임인 mydat.. 각 행이 하나의 관측치이며 각 열은 하나의 변수"
   ]
  },
  {
   "cell_type": "markdown",
   "metadata": {},
   "source": [
    "mydat"
   ]
  },
  {
   "cell_type": "markdown",
   "metadata": {},
   "source": [
    "    income     car marriage"
   ]
  },
  {
   "cell_type": "markdown",
   "metadata": {},
   "source": [
    "1    100     kia    FALSE"
   ]
  },
  {
   "cell_type": "markdown",
   "metadata": {},
   "source": [
    "2    200 hyundai    FALSE"
   ]
  },
  {
   "cell_type": "markdown",
   "metadata": {},
   "source": [
    "3    150     kia    FALSE"
   ]
  },
  {
   "cell_type": "markdown",
   "metadata": {},
   "source": [
    "4    300  toyota     TRUE"
   ]
  },
  {
   "cell_type": "markdown",
   "metadata": {},
   "source": [
    "5    900   lexus     TRUE"
   ]
  },
  {
   "cell_type": "markdown",
   "metadata": {},
   "source": [
    "## 외부 데이터 불러오기"
   ]
  },
  {
   "cell_type": "markdown",
   "metadata": {},
   "source": [
    "csv, txt, xls/xlsx 파일 불러오기 가능 "
   ]
  },
  {
   "cell_type": "markdown",
   "metadata": {},
   "source": [
    "### csv"
   ]
  },
  {
   "cell_type": "markdown",
   "metadata": {},
   "source": [
    "read.table 명령어로 csv파일 R에 데이터 프레임 형태로 불러온다."
   ]
  },
  {
   "cell_type": "markdown",
   "metadata": {},
   "source": [
    "header=T 옵션으로 csv파일의 첫 줄을 변수명으로 지정 가능. sep=',' 옵션으로 데이터가 쉼표로 구분된 파일임을 지정"
   ]
  },
  {
   "cell_type": "markdown",
   "metadata": {},
   "source": [
    "파일 경로에 \\대신 \\\\을 사용한다!(/도 사용 가능하다.)"
   ]
  },
  {
   "cell_type": "markdown",
   "metadata": {},
   "source": [
    "data1 <- read.table(\"c:\\\\users....\\\\통합 문서1.csv\", header=T, sep=\",\")"
   ]
  },
  {
   "cell_type": "markdown",
   "metadata": {},
   "source": [
    "  이름              출신 점수"
   ]
  },
  {
   "cell_type": "markdown",
   "metadata": {},
   "source": [
    "1   김 도곡동 타워팰리스   80"
   ]
  },
  {
   "cell_type": "markdown",
   "metadata": {},
   "source": [
    "2   이   송파 헬리오시티   90"
   ]
  },
  {
   "cell_type": "markdown",
   "metadata": {},
   "source": [
    "3   박            서울역   50"
   ]
  },
  {
   "cell_type": "markdown",
   "metadata": {},
   "source": [
    "4   최              동굴   25"
   ]
  },
  {
   "cell_type": "markdown",
   "metadata": {},
   "source": [
    "### txt"
   ]
  },
  {
   "cell_type": "markdown",
   "metadata": {},
   "source": [
    "역시 데이터 프레임 형태로 불러올 수 있다. sep=',' 옵션을 안 쓰면 csv가 아닌 txt파일을 불러온다! txt파일이 구분자, 형식 등을 잘 지켜 작성되어있어야 한다."
   ]
  },
  {
   "cell_type": "markdown",
   "metadata": {},
   "source": [
    "ex)    data2 = read.table(\"D:\\\\DATA\\\\example.txt\")"
   ]
  },
  {
   "cell_type": "markdown",
   "metadata": {},
   "source": [
    "### xlsx"
   ]
  },
  {
   "cell_type": "markdown",
   "metadata": {},
   "source": [
    "엑셀 파일은 엑셀에서 csv형식으로 저장해 위의 불러오기 식으로 불러오거나 R의 패키지를 설치해 직접 불러온다."
   ]
  },
  {
   "cell_type": "markdown",
   "metadata": {},
   "source": [
    "## 기초 함수"
   ]
  },
  {
   "cell_type": "markdown",
   "metadata": {},
   "source": [
    "### 수열 생성하기"
   ]
  },
  {
   "cell_type": "markdown",
   "metadata": {},
   "source": [
    "rep 함수 = 기본적으로 2개의 인수 가짐 첫 번째 인수를 두 번째 인수만큼 반복!"
   ]
  },
  {
   "cell_type": "markdown",
   "metadata": {},
   "source": [
    "rep(1, 3)   "
   ]
  },
  {
   "cell_type": "markdown",
   "metadata": {},
   "source": [
    "[1] 1 1 1"
   ]
  },
  {
   "cell_type": "markdown",
   "metadata": {},
   "source": [
    "seq 함수 역시 2개의 인수를 가지는데, 첫 인수부터 두 번째 인수까지 1씩 증가하는 수열의 숫자 벡터 생성"
   ]
  },
  {
   "cell_type": "markdown",
   "metadata": {},
   "source": [
    "seq(1, 5)"
   ]
  },
  {
   "cell_type": "markdown",
   "metadata": {},
   "source": [
    "[1] 1 2 3 4 5"
   ]
  },
  {
   "cell_type": "markdown",
   "metadata": {},
   "source": [
    "2:8 # seq는 간단하게 인수1:인수2 형식으로 표현 가능...."
   ]
  },
  {
   "cell_type": "markdown",
   "metadata": {},
   "source": [
    "[1] 2 3 4 5 6 7 8"
   ]
  },
  {
   "cell_type": "markdown",
   "metadata": {},
   "source": [
    "seq(1, 21, by=4) # by=n 옵션을 추가하면 1씩 증가하지 않고 n씩 증가하는 수열이 된다!"
   ]
  },
  {
   "cell_type": "markdown",
   "metadata": {},
   "source": [
    "[1]  1  5  9 13 17 21"
   ]
  },
  {
   "cell_type": "markdown",
   "metadata": {},
   "source": [
    "seq(1, 5, length=3) # length=m 옵션을 추가하면 전체 수열의 개수가 m개가 되도록 자동적으로 증가하는 수열을 생성한다."
   ]
  },
  {
   "cell_type": "markdown",
   "metadata": {},
   "source": [
    "[1] 1 3 5"
   ]
  },
  {
   "cell_type": "markdown",
   "metadata": {},
   "source": [
    "rep(1:5, 3) # rep 함수에 seq 함수 형태의 인수를 사용하여 다음처럼 반복되는 수열을 만들 수 있다."
   ]
  },
  {
   "cell_type": "markdown",
   "metadata": {},
   "source": [
    " [1] 1 2 3 4 5 1 2 3 4 5 1 2 3 4 5"
   ]
  },
  {
   "cell_type": "markdown",
   "metadata": {},
   "source": [
    "## 기초적 수치 계산"
   ]
  },
  {
   "cell_type": "markdown",
   "metadata": {},
   "source": [
    "다양한 수치 계산을 위한 함수, 명령어가 있음... 기본적으로 벡터와 벡터간의 사칙연산의 경우 연산되는 벡터들의 길이가 동일해야 한다!"
   ]
  },
  {
   "cell_type": "markdown",
   "metadata": {},
   "source": [
    " a=1:10"
   ]
  },
  {
   "cell_type": "markdown",
   "metadata": {},
   "source": [
    "a"
   ]
  },
  {
   "cell_type": "markdown",
   "metadata": {},
   "source": [
    " [1]  1  2  3  4  5  6  7  8  9 10"
   ]
  },
  {
   "cell_type": "markdown",
   "metadata": {},
   "source": [
    "a+a"
   ]
  },
  {
   "cell_type": "markdown",
   "metadata": {},
   "source": [
    "[1]  2  4  6  8 10 12 14 16 18 20"
   ]
  },
  {
   "cell_type": "markdown",
   "metadata": {},
   "source": [
    "a-a"
   ]
  },
  {
   "cell_type": "markdown",
   "metadata": {},
   "source": [
    "[1] 0 0 0 0 0 0 0 0 0 0"
   ]
  },
  {
   "cell_type": "markdown",
   "metadata": {},
   "source": [
    "a*a"
   ]
  },
  {
   "cell_type": "markdown",
   "metadata": {},
   "source": [
    "[1]   1   4   9  16  25  36  49  64  81 100"
   ]
  },
  {
   "cell_type": "markdown",
   "metadata": {},
   "source": [
    "a/a"
   ]
  },
  {
   "cell_type": "markdown",
   "metadata": {},
   "source": [
    "[1] 1 1 1 1 1 1 1 1 1 1"
   ]
  },
  {
   "cell_type": "markdown",
   "metadata": {},
   "source": [
    "R에서 벡터 생성하면 기본적으로 열 벡터.. 1행 3열의 열 벡터의 전치행렬인 3행 1열의 행 벡터 행렬 만들고 서로 행렬곱을 해 3행 3열의 행열을 만들 수 있다."
   ]
  },
  {
   "cell_type": "markdown",
   "metadata": {},
   "source": [
    "t명령어로 주어진 행렬의 전치행렬을 구하고 % * %을 통해 두 행렬간의 행렬곱을 알 수 있다."
   ]
  },
  {
   "cell_type": "markdown",
   "metadata": {},
   "source": [
    "a = c(1,3,5)"
   ]
  },
  {
   "cell_type": "markdown",
   "metadata": {},
   "source": [
    "a"
   ]
  },
  {
   "cell_type": "markdown",
   "metadata": {},
   "source": [
    "[1] 1 3 5"
   ]
  },
  {
   "cell_type": "markdown",
   "metadata": {},
   "source": [
    " t(a)"
   ]
  },
  {
   "cell_type": "markdown",
   "metadata": {},
   "source": [
    "   [,1] [,2] [,3]"
   ]
  },
  {
   "cell_type": "markdown",
   "metadata": {},
   "source": [
    "   [1,]        1        3        5"
   ]
  },
  {
   "cell_type": "markdown",
   "metadata": {},
   "source": [
    "A = a%*%t(a)"
   ]
  },
  {
   "cell_type": "markdown",
   "metadata": {},
   "source": [
    "A"
   ]
  },
  {
   "cell_type": "markdown",
   "metadata": {},
   "source": [
    "   [,1] [,2] [,3]"
   ]
  },
  {
   "cell_type": "markdown",
   "metadata": {},
   "source": [
    "[1,]    1    3    5"
   ]
  },
  {
   "cell_type": "markdown",
   "metadata": {},
   "source": [
    "[2,]    3    9   15"
   ]
  },
  {
   "cell_type": "markdown",
   "metadata": {},
   "source": [
    "[3,]    5   15   25"
   ]
  },
  {
   "cell_type": "markdown",
   "metadata": {},
   "source": [
    "행렬에 *으로 연산하면 단순한 곱의 결과를 얻는다. solve 명령어로 역행렬을 계산한다."
   ]
  },
  {
   "cell_type": "markdown",
   "metadata": {},
   "source": [
    "mx=matrix(c(23,41,12,35,67,1,24,7,53),nrow=3)"
   ]
  },
  {
   "cell_type": "markdown",
   "metadata": {},
   "source": [
    "mx"
   ]
  },
  {
   "cell_type": "markdown",
   "metadata": {},
   "source": [
    "   [,1] [,2] [,3]"
   ]
  },
  {
   "cell_type": "markdown",
   "metadata": {},
   "source": [
    "[1,]   23   35   24\n"
   ]
  },
  {
   "cell_type": "markdown",
   "metadata": {},
   "source": [
    "[2,]   41   67    7\n"
   ]
  },
  {
   "cell_type": "markdown",
   "metadata": {},
   "source": [
    "[3,]   12    1   53\n"
   ]
  },
  {
   "cell_type": "markdown",
   "metadata": {},
   "source": [
    "5*mx"
   ]
  },
  {
   "cell_type": "markdown",
   "metadata": {},
   "source": [
    "  [,1] [,2] [,3]\n"
   ]
  },
  {
   "cell_type": "markdown",
   "metadata": {},
   "source": [
    "[1,]  115  175  120"
   ]
  },
  {
   "cell_type": "markdown",
   "metadata": {},
   "source": [
    "[2,]  205  335   35\n"
   ]
  },
  {
   "cell_type": "markdown",
   "metadata": {},
   "source": [
    "[3,]   60    5  265\n"
   ]
  },
  {
   "cell_type": "markdown",
   "metadata": {},
   "source": [
    "solve(mx)"
   ]
  },
  {
   "cell_type": "markdown",
   "metadata": {},
   "source": [
    "         [,1]        [,2]        [,3]"
   ]
  },
  {
   "cell_type": "markdown",
   "metadata": {},
   "source": [
    "[1,] -0.35743822  0.18466969  0.13746848\n"
   ]
  },
  {
   "cell_type": "markdown",
   "metadata": {},
   "source": [
    "[2,]  0.21069087 -0.09389813 -0.08300555\n"
   ]
  },
  {
   "cell_type": "markdown",
   "metadata": {},
   "source": [
    "[3,]  0.07695411 -0.04004034 -0.01069087\n"
   ]
  },
  {
   "cell_type": "markdown",
   "metadata": {},
   "source": [
    "\n",
    "짧은 명령어로 기초적 기술통계량들을 간편히 계산한다. mean, var, sd 함수는 각각 벡터의 평균, 분산, 표준편차를 계산한다."
   ]
  },
  {
   "cell_type": "markdown",
   "metadata": {},
   "source": [
    " a=seq(1, 10)"
   ]
  },
  {
   "cell_type": "markdown",
   "metadata": {},
   "source": [
    "a"
   ]
  },
  {
   "cell_type": "markdown",
   "metadata": {},
   "source": [
    " [1]  1  2  3  4  5  6  7  8  9 10"
   ]
  },
  {
   "cell_type": "markdown",
   "metadata": {},
   "source": [
    "mean(a)"
   ]
  },
  {
   "cell_type": "markdown",
   "metadata": {},
   "source": [
    "[1] 5.5"
   ]
  },
  {
   "cell_type": "markdown",
   "metadata": {},
   "source": [
    "var(a)"
   ]
  },
  {
   "cell_type": "markdown",
   "metadata": {},
   "source": [
    "[1] 9.166667"
   ]
  },
  {
   "cell_type": "markdown",
   "metadata": {},
   "source": [
    "sd(a)"
   ]
  },
  {
   "cell_type": "markdown",
   "metadata": {},
   "source": [
    "[1] 3.02765"
   ]
  },
  {
   "cell_type": "markdown",
   "metadata": {},
   "source": [
    " sum, median, log는 각각 합계, 중간값, 자연로그값이다."
   ]
  },
  {
   "cell_type": "markdown",
   "metadata": {},
   "source": [
    "sum(a)"
   ]
  },
  {
   "cell_type": "markdown",
   "metadata": {},
   "source": [
    "[1] 55"
   ]
  },
  {
   "cell_type": "markdown",
   "metadata": {},
   "source": [
    " median(a)"
   ]
  },
  {
   "cell_type": "markdown",
   "metadata": {},
   "source": [
    "[1] 5.5"
   ]
  },
  {
   "cell_type": "markdown",
   "metadata": {},
   "source": [
    " log(a)"
   ]
  },
  {
   "cell_type": "markdown",
   "metadata": {},
   "source": [
    "[1] 0.0000000 0.6931472 1.0986123 1.3862944 1.6094379 1.7917595 1.9459101\n",
    " [8] 2.0794415 2.1972246 2.3025851"
   ]
  },
  {
   "cell_type": "markdown",
   "metadata": {},
   "source": [
    "서로 다른 두 벡터에는 cov, cor함수로 공분산과 상관계수를 구한다."
   ]
  },
  {
   "cell_type": "markdown",
   "metadata": {},
   "source": [
    "* 공분산: 2개의 확률변수의 상관정도를 나타냄. 자료가 평균값에서 얼마나 떨어져있는지.. 어떻게 분포되어있는지.. (크기, 방향성)공분산을 각각의 표본표준편차값으로 나누어 정규화해 정의\n"
   ]
  },
  {
   "cell_type": "markdown",
   "metadata": {},
   "source": [
    "* 상관계수: 두 변수 사이의 통계적 관계를 표현하기 위해 특정한 상관 관계의 정도를 수치로 나타낸 계수!"
   ]
  },
  {
   "cell_type": "markdown",
   "metadata": {},
   "source": [
    "a=seq(1,10)"
   ]
  },
  {
   "cell_type": "markdown",
   "metadata": {},
   "source": [
    "b=log(a)"
   ]
  },
  {
   "cell_type": "markdown",
   "metadata": {},
   "source": [
    "cov(a,b)"
   ]
  },
  {
   "cell_type": "markdown",
   "metadata": {},
   "source": [
    "[1] 2.112062"
   ]
  },
  {
   "cell_type": "markdown",
   "metadata": {},
   "source": [
    " cor(a,b)"
   ]
  },
  {
   "cell_type": "markdown",
   "metadata": {},
   "source": [
    "[1] 0.9516624"
   ]
  },
  {
   "cell_type": "markdown",
   "metadata": {},
   "source": [
    "summary 함수를 이용하면 주어진 벡터의 각 사분위수와 최소/최대값, 중앙값, 평균을 계산한다! summary함수는 숫자 벡터에 쓰면 사분위수를 계산하지만 다른 데이터 타입에도 쓰인다."
   ]
  },
  {
   "cell_type": "markdown",
   "metadata": {},
   "source": [
    "이때 함수는 해당 대상의 정보를 요약해주는 기능을 한다."
   ]
  },
  {
   "cell_type": "markdown",
   "metadata": {},
   "source": [
    "* 사분위수: 데이터 표본을 4개의 동일한 부분으로 나눈 값...집합의 범위와 중심 위치를 빠르게 평가 가능. "
   ]
  },
  {
   "cell_type": "markdown",
   "metadata": {},
   "source": [
    "summary(a) # a=(1:10)"
   ]
  },
  {
   "cell_type": "markdown",
   "metadata": {},
   "source": [
    "   Min. 1st Qu.  Median    Mean 3rd Qu.    Max. "
   ]
  },
  {
   "cell_type": "markdown",
   "metadata": {},
   "source": [
    "   1.00    3.25    5.50    5.50    7.75   10.00 "
   ]
  },
  {
   "cell_type": "markdown",
   "metadata": {},
   "source": [
    "## R 데이터 핸들링"
   ]
  },
  {
   "cell_type": "markdown",
   "metadata": {},
   "source": [
    "R은 객체지향 언어.. 변수 호출하거나 요소 참조하는 것이 직관적이며 간단하다. 분석기법 적용을 위한 빅데이터도 직관적으로 핸들링 가능하다. "
   ]
  },
  {
   "cell_type": "markdown",
   "metadata": {},
   "source": [
    "### 벡터형 변수"
   ]
  },
  {
   "cell_type": "markdown",
   "metadata": {},
   "source": [
    "\n",
    "b[n]처럼 벡터 뒤에 대괄호 붙여 b 벡터에서 n번의 값을 불러온다. 대괄호 안에 -를 붙이고 n을 넣으면 n번째 원소값을 제외한 나머지 b벡터를 불러온다."
   ]
  },
  {
   "cell_type": "markdown",
   "metadata": {},
   "source": [
    "여러 개의 원소를 불러오려면 c 명령어를 대괄호 안에 사용해 해당 원소값의 위치를 나열!"
   ]
  },
  {
   "cell_type": "markdown",
   "metadata": {},
   "source": [
    "* 파이썬의 인덱싱과는 다르다!(0부터 시작/-붙이면 뒤에서부터 순서...) 혼동하지 말자!"
   ]
  },
  {
   "cell_type": "markdown",
   "metadata": {},
   "source": [
    "b = c(\"a\",\"b\",\"c\",\"d\",\"e\")"
   ]
  },
  {
   "cell_type": "markdown",
   "metadata": {},
   "source": [
    "b"
   ]
  },
  {
   "cell_type": "markdown",
   "metadata": {},
   "source": [
    "[1] \"a\" \"b\" \"c\" \"d\" \"e\""
   ]
  },
  {
   "cell_type": "markdown",
   "metadata": {},
   "source": [
    "b[1]"
   ]
  },
  {
   "cell_type": "markdown",
   "metadata": {},
   "source": [
    "[1] \"a\""
   ]
  },
  {
   "cell_type": "markdown",
   "metadata": {},
   "source": [
    "b[-1]"
   ]
  },
  {
   "cell_type": "markdown",
   "metadata": {},
   "source": [
    "[1] \"b\" \"c\" \"d\" \"e\""
   ]
  },
  {
   "cell_type": "markdown",
   "metadata": {},
   "source": [
    "b[c(-1,-2)]"
   ]
  },
  {
   "cell_type": "markdown",
   "metadata": {},
   "source": [
    "[1] \"c\" \"d\" \"e\""
   ]
  },
  {
   "cell_type": "markdown",
   "metadata": {},
   "source": [
    "### 행렬/데이터 프레임 변수"
   ]
  },
  {
   "cell_type": "markdown",
   "metadata": {},
   "source": [
    "행렬,데이터 프레임 형태의 변수에서도 대괄호 이용한 특정 원소/요소의 참조가 가능하다. 대괄호 안에 [m,n]식으로 2개의 숫자를 써 불러올 자료의 행,열을 지정해야 한다!"
   ]
  },
  {
   "cell_type": "markdown",
   "metadata": {},
   "source": [
    "[-m,][,-n]식으로 숫자에 -를 붙여 해당 행,열을 제외하고 불러올 수 있지만 [-m,-n]식으로 행,열 전부 지정해 한 워소를 제외할 수는 없다. 대괄호 안에 여러 숫자(숫자형벡터)도 적용 가능."
   ]
  },
  {
   "cell_type": "markdown",
   "metadata": {},
   "source": [
    "mydat"
   ]
  },
  {
   "cell_type": "markdown",
   "metadata": {},
   "source": [
    "  income     car marriage"
   ]
  },
  {
   "cell_type": "markdown",
   "metadata": {},
   "source": [
    "1    100     kia    FALSE"
   ]
  },
  {
   "cell_type": "markdown",
   "metadata": {},
   "source": [
    "2    200 hyundai    FALSE"
   ]
  },
  {
   "cell_type": "markdown",
   "metadata": {},
   "source": [
    "3    150     kia    FALSE"
   ]
  },
  {
   "cell_type": "markdown",
   "metadata": {},
   "source": [
    "4    300  toyota     TRUE"
   ]
  },
  {
   "cell_type": "markdown",
   "metadata": {},
   "source": [
    "5    900   lexus     TRUE"
   ]
  },
  {
   "cell_type": "markdown",
   "metadata": {},
   "source": [
    "mydat[1,1] # 1행1열값"
   ]
  },
  {
   "cell_type": "markdown",
   "metadata": {},
   "source": [
    "[1] 100"
   ]
  },
  {
   "cell_type": "markdown",
   "metadata": {},
   "source": [
    "mydat[3,2]\t\t\t\t\t#\t 3행2열의 값"
   ]
  },
  {
   "cell_type": "markdown",
   "metadata": {},
   "source": [
    "[1] \"kia\""
   ]
  },
  {
   "cell_type": "markdown",
   "metadata": {},
   "source": [
    " mydat[,2]\t\t\t#\t\t\t 2열의 값 전부"
   ]
  },
  {
   "cell_type": "markdown",
   "metadata": {},
   "source": [
    "[1] \"kia\"     \"hyundai\" \"kia\"     \"toyota\"  \"lexus\"  "
   ]
  },
  {
   "cell_type": "markdown",
   "metadata": {},
   "source": [
    "mydat[4,]\t\t\t\t#\t\t 4행의 값 전부"
   ]
  },
  {
   "cell_type": "markdown",
   "metadata": {},
   "source": [
    "  income    car marriage"
   ]
  },
  {
   "cell_type": "markdown",
   "metadata": {},
   "source": [
    "4    300 toyota     TRUE"
   ]
  },
  {
   "cell_type": "markdown",
   "metadata": {},
   "source": [
    "mydat[-1,1]               #                             1열에서 1행의 값을 뺌"
   ]
  },
  {
   "cell_type": "markdown",
   "metadata": {},
   "source": [
    "[1] 200 150 300 900"
   ]
  },
  {
   "cell_type": "markdown",
   "metadata": {},
   "source": [
    "## 반복구문과 조건문"
   ]
  },
  {
   "cell_type": "markdown",
   "metadata": {},
   "source": [
    "특정 조건에서 비슷한 작업을 반복,일정 조건 충족시 작업 수행하는 구문... 복잡한 계산이나 작업이 용이해짐!"
   ]
  },
  {
   "cell_type": "markdown",
   "metadata": {},
   "source": [
    "### for 반복 구문"
   ]
  },
  {
   "cell_type": "markdown",
   "metadata": {},
   "source": [
    "괄호 안의 조건 하에서 i값을 하나씩 증가시키며 중괄호 {} 안의 구문을 반복실행한다. "
   ]
  },
  {
   "cell_type": "markdown",
   "metadata": {},
   "source": [
    "a = c()"
   ]
  },
  {
   "cell_type": "markdown",
   "metadata": {},
   "source": [
    "for (i in 1:9){"
   ]
  },
  {
   "cell_type": "markdown",
   "metadata": {},
   "source": [
    "+a[i] = i * i"
   ]
  },
  {
   "cell_type": "markdown",
   "metadata": {},
   "source": [
    "+}"
   ]
  },
  {
   "cell_type": "markdown",
   "metadata": {},
   "source": [
    "a"
   ]
  },
  {
   "cell_type": "markdown",
   "metadata": {},
   "source": [
    "[1]  1  4  9 16 25 36 49 64 81"
   ]
  },
  {
   "cell_type": "markdown",
   "metadata": {},
   "source": [
    "{} 구문 안의 i 변수가 1:9 값을 하나씩 순서대로 가지며 반복된다."
   ]
  },
  {
   "cell_type": "markdown",
   "metadata": {},
   "source": [
    "isum = 0"
   ]
  },
  {
   "cell_type": "markdown",
   "metadata": {},
   "source": [
    "for (i in 1:100) {"
   ]
  },
  {
   "cell_type": "markdown",
   "metadata": {},
   "source": [
    "+isum = isum + 1"
   ]
  },
  {
   "cell_type": "markdown",
   "metadata": {},
   "source": [
    "+}"
   ]
  },
  {
   "cell_type": "markdown",
   "metadata": {},
   "source": [
    "cat(\"1부터 100까지의 합=\", isum, \"입니다.\", \"\\n\")"
   ]
  },
  {
   "cell_type": "markdown",
   "metadata": {},
   "source": [
    "1부터 100까지의 합= 5050 입니다. "
   ]
  },
  {
   "cell_type": "markdown",
   "metadata": {},
   "source": [
    "i는 1부터 100까지 1씩 증가하며 100번 실행된다. 기존의 isum값에 i를 더해 새 isum값을 선언하며 100회 반복한 합을 구한다."
   ]
  },
  {
   "cell_type": "markdown",
   "metadata": {},
   "source": [
    "### while 반복 구문"
   ]
  },
  {
   "cell_type": "markdown",
   "metadata": {},
   "source": [
    "for처럼 괄호 안의 조건 하에서 {}의 구문을 반복한다. for와 다른 점은 while은 괄호 안의 조건이 만족되는 동안 {}안의 구문을 반복한다!"
   ]
  },
  {
   "cell_type": "markdown",
   "metadata": {},
   "source": [
    " -> for는 선언과 동시에 몇 회 반복될지 알 수 있는 반면 while은 {}구문이 괄호 안의 조건을 충족하지 못할 때까지 반복하므로 횟수를 미리 알 수 없다."
   ]
  },
  {
   "cell_type": "markdown",
   "metadata": {},
   "source": [
    "x=1"
   ]
  },
  {
   "cell_type": "markdown",
   "metadata": {},
   "source": [
    "while (x<5) {"
   ]
  },
  {
   "cell_type": "markdown",
   "metadata": {},
   "source": [
    "+x = x + 1"
   ]
  },
  {
   "cell_type": "markdown",
   "metadata": {},
   "source": [
    "+print(x)"
   ]
  },
  {
   "cell_type": "markdown",
   "metadata": {},
   "source": [
    "+}"
   ]
  },
  {
   "cell_type": "markdown",
   "metadata": {},
   "source": [
    "[1] 2"
   ]
  },
  {
   "cell_type": "markdown",
   "metadata": {},
   "source": [
    "[1] 3"
   ]
  },
  {
   "cell_type": "markdown",
   "metadata": {},
   "source": [
    "[1] 4"
   ]
  },
  {
   "cell_type": "markdown",
   "metadata": {},
   "source": [
    "[1] 5"
   ]
  },
  {
   "cell_type": "markdown",
   "metadata": {},
   "source": [
    "x에 초기 값 1을 지정하고 5보다 작다면 {}의 구문을 반복한다. 괄호 안의 조건이 만족되는 경우에만 반복하기에 구문 종료하려면 조건인 변수 x를 변화시켜야 한다. 위의 경우에는 x=x+1에 의해 구문이 반복되며 x가 1씩 커져 5가 되면 조건을 만족하지 못하기에 구문이 종료되는 것을 알 수 있다."
   ]
  },
  {
   "cell_type": "markdown",
   "metadata": {},
   "source": [
    "### if~else 조건문"
   ]
  },
  {
   "cell_type": "markdown",
   "metadata": {},
   "source": [
    "if 조건문은 특정 조건이 만족되는 경우 이후의 구문을 실행. if ~ else 구문은 if 조건이 만족되지 않을 때 else 이하의 조건을 통해 또 다른 조건을 부여한다."
   ]
  },
  {
   "cell_type": "markdown",
   "metadata": {},
   "source": [
    "StatScore = c(88, 90, 78, 84, 76, 68, 50, 48, 33, 70, 48, 66, 88, 96, 79, 65, 277, 88, 96, 33, 64, 48, 77, 18, 26, 44, 48, 68, 77, 64, 88, 95, 79, 88, 49, 30, 29, 10, 49, 88)"
   ]
  },
  {
   "cell_type": "markdown",
   "metadata": {},
   "source": [
    "over70 = rep(0,40) #1 숫자벡터 생성"
   ]
  },
  {
   "cell_type": "markdown",
   "metadata": {},
   "source": [
    "for (i in 1:40){"
   ]
  },
  {
   "cell_type": "markdown",
   "metadata": {},
   "source": [
    "+if (StatScore[i] >= 70) over70[i] = 1 #2 StatScore i값이 70 이상이면 over70의 i번째 값을 1로, 그렇지 않으면 0으로 지정"
   ]
  },
  {
   "cell_type": "markdown",
   "metadata": {},
   "source": [
    "+else over70[i] = 0}"
   ]
  },
  {
   "cell_type": "markdown",
   "metadata": {},
   "source": [
    "over70"
   ]
  },
  {
   "cell_type": "markdown",
   "metadata": {},
   "source": [
    " [1] 1 1 1 1 1 0 0 0 0 1 0 0 1 1 1 0 1 1 1 0 0 0 1 0 0 0 0 0 1 0 1 1 1 1 0 0 0 0 0 1"
   ]
  },
  {
   "cell_type": "markdown",
   "metadata": {},
   "source": [
    "sum(over70)"
   ]
  },
  {
   "cell_type": "markdown",
   "metadata": {},
   "source": [
    "[1] 19"
   ]
  },
  {
   "cell_type": "markdown",
   "metadata": {},
   "source": [
    "StatScore라는 문자 벡터를 만들고 rep 명령어로 0이 40개인 over70 숫자 벡터를 만들었다. 이후 for 구문으로 i가 1부터 40까지 1씩 증가시켜가며 반복하는데 if ~ else 구문을 이용해 i번째 값이 70 이상이면 over70의 값을 1로, 그렇지 않으면 0으로 지정한다. "
   ]
  },
  {
   "cell_type": "markdown",
   "metadata": {},
   "source": [
    "이제 over70을 sum 명령어로 합해주면 StatScore벡터 안에서 70보다 큰 값의 개수를 전부 구할 수 있다!"
   ]
  },
  {
   "cell_type": "markdown",
   "metadata": {},
   "source": [
    "addto = function(a){"
   ]
  },
  {
   "cell_type": "markdown",
   "metadata": {},
   "source": [
    "+isum=0"
   ]
  },
  {
   "cell_type": "markdown",
   "metadata": {},
   "source": [
    "+for (i in 1:a) {"
   ]
  },
  {
   "cell_type": "markdown",
   "metadata": {},
   "source": [
    "+isum = isum + i"
   ]
  },
  {
   "cell_type": "markdown",
   "metadata": {},
   "source": [
    "}"
   ]
  },
  {
   "cell_type": "markdown",
   "metadata": {},
   "source": [
    "print (isum)"
   ]
  },
  {
   "cell_type": "markdown",
   "metadata": {},
   "source": [
    "}"
   ]
  },
  {
   "cell_type": "markdown",
   "metadata": {},
   "source": [
    "addto(100)"
   ]
  },
  {
   "cell_type": "markdown",
   "metadata": {},
   "source": [
    "[1] 5050"
   ]
  },
  {
   "cell_type": "markdown",
   "metadata": {},
   "source": [
    "addto(50)"
   ]
  },
  {
   "cell_type": "markdown",
   "metadata": {},
   "source": [
    "[1] 1275"
   ]
  },
  {
   "cell_type": "markdown",
   "metadata": {},
   "source": [
    "함수 addto는 입력한 인수 a까지의 합을 계산해준다. i값이 1부터 a까지 반복되는 for 구문을 통해 수열을 생성한 후 모든 i값을 더한 원리. 이런 반복 구문이나 if ~ else 조건문을 통해 모든 명령어와 함수를 사용해 자동으로 그래프를 출력하거나 복잡한 계산을 반복수행하는 함수를 만들 수 있다."
   ]
  },
  {
   "cell_type": "markdown",
   "metadata": {},
   "source": [
    "## 기타 기능들"
   ]
  },
  {
   "cell_type": "markdown",
   "metadata": {},
   "source": [
    "### paste"
   ]
  },
  {
   "cell_type": "markdown",
   "metadata": {},
   "source": [
    "입력받은 문자열들을 하나로 이어붙인다. 'sep='옵션을 통해 붙이려는 문자열 사이에 구분자를 삽입한다. 복잡한 알고리즘의 결과물을 보기 쉽게 출력한다."
   ]
  },
  {
   "cell_type": "markdown",
   "metadata": {},
   "source": [
    "number = 1:10\n"
   ]
  },
  {
   "cell_type": "markdown",
   "metadata": {},
   "source": [
    "alphabet=c(\"a\",\"b\",\"c\")\n"
   ]
  },
  {
   "cell_type": "markdown",
   "metadata": {},
   "source": [
    "paste(number,alphabet)\n"
   ]
  },
  {
   "cell_type": "markdown",
   "metadata": {},
   "source": [
    "[1] \"1 a\"  \"2 b\"  \"3 c\"  \"4 a\"  \"5 b\"  \"6 c\"  \"7 a\"  \"8 b\"  \"9 c\"  \"10 a\"\n"
   ]
  },
  {
   "cell_type": "markdown",
   "metadata": {},
   "source": [
    "paste(number,alphabet,sep=\"to the\")\n"
   ]
  },
  {
   "cell_type": "markdown",
   "metadata": {},
   "source": [
    "[1] \"1to thea\"  \"2to theb\"  \"3to thec\"  \"4to thea\"  \"5to theb\"  \"6to thec\"  \"7to thea\"  \"8to theb\"  \"9to thec\"  \"10to thea\""
   ]
  },
  {
   "cell_type": "markdown",
   "metadata": {},
   "source": [
    "### substr"
   ]
  },
  {
   "cell_type": "markdown",
   "metadata": {},
   "source": [
    "paste와 유사한 용도에서 사용하는 substr는 paste와 반대로 주어진 문자열에서 특정 문자열을 추출한다. 복잡,긴 출력결과를 간소하게 줄일 수 있고 데이터셋을 일정한 규격으로 정제하는데도 유용하다. "
   ]
  },
  {
   "cell_type": "markdown",
   "metadata": {},
   "source": [
    "단어에서 substr를 이용해 첫 글자부터 4개의 글자를 추출한 결과"
   ]
  },
  {
   "cell_type": "markdown",
   "metadata": {},
   "source": [
    "substr(\"BigDataAnalysis\",1,4)\n"
   ]
  },
  {
   "cell_type": "markdown",
   "metadata": {},
   "source": [
    "[1] \"BigD\"\n"
   ]
  },
  {
   "cell_type": "markdown",
   "metadata": {},
   "source": [
    "여러 국가명이 포함된 벡터에서 각 국가명에 대해 첫 글자부터 3개의 글자씩을 추출한 결과"
   ]
  },
  {
   "cell_type": "markdown",
   "metadata": {},
   "source": [
    "country=c(\"Korea\",\"Japan\",\"China\",\"Singapore\",\"Russia\")\n"
   ]
  },
  {
   "cell_type": "markdown",
   "metadata": {},
   "source": [
    "substr(country,1,3)\n"
   ]
  },
  {
   "cell_type": "markdown",
   "metadata": {},
   "source": [
    "[1] \"Kor\" \"Jap\" \"Chi\" \"Sin\" \"Rus\"\n"
   ]
  },
  {
   "cell_type": "markdown",
   "metadata": {},
   "source": [
    "### 자료형 데이터 구조 변환"
   ]
  },
  {
   "cell_type": "markdown",
   "metadata": {},
   "source": [
    "주어진 객체의 데이터 구조를 다른 구조로 변환할 때 이용할 수 있는 함수들..."
   ]
  },
  {
   "cell_type": "markdown",
   "metadata": {},
   "source": [
    "as.data.frame(x): # 데이터 프레임 형식으로 변환"
   ]
  },
  {
   "cell_type": "markdown",
   "metadata": {},
   "source": [
    "as.list(x): # 리스트 형식으로 변환"
   ]
  },
  {
   "cell_type": "markdown",
   "metadata": {},
   "source": [
    "as.matrix(x): # 행렬 형식으로 변환"
   ]
  },
  {
   "cell_type": "markdown",
   "metadata": {},
   "source": [
    "as.vector(x): # 벡터 형식으로 변환"
   ]
  },
  {
   "cell_type": "markdown",
   "metadata": {},
   "source": [
    "as.factor(x): # 팩터 형식으로 변환"
   ]
  },
  {
   "cell_type": "markdown",
   "metadata": {},
   "source": [
    " as.integer(3.14)"
   ]
  },
  {
   "cell_type": "markdown",
   "metadata": {},
   "source": [
    "[1] 3"
   ]
  },
  {
   "cell_type": "markdown",
   "metadata": {},
   "source": [
    "as.numeric(\"foo\")"
   ]
  },
  {
   "cell_type": "markdown",
   "metadata": {},
   "source": [
    "[1] NA\n",
    "경고메시지(들): \n",
    "강제형변환에 의해 생성된 NA 입니다 \n"
   ]
  },
  {
   "cell_type": "markdown",
   "metadata": {},
   "source": [
    "3.14라는 실수가 저장되는 벡터를 as.interger함수를 써서 정수로 강제 변환 / foo라는 문자형 데이터가 저장되는 벡터를 as.numeric 함수를 써서 수치형 벡터로 강제 전환하려 했으나 foo는 숫자형 자료가 아니기에 수치형 벡터에 포함되지 않아 NA가 출력되며 경고문이 발생."
   ]
  },
  {
   "cell_type": "markdown",
   "metadata": {},
   "source": [
    "as.character(101)\n"
   ]
  },
  {
   "cell_type": "markdown",
   "metadata": {},
   "source": [
    "[1] \"101\"\n"
   ]
  },
  {
   "cell_type": "markdown",
   "metadata": {},
   "source": [
    " as.numeric(FALSE)\n"
   ]
  },
  {
   "cell_type": "markdown",
   "metadata": {},
   "source": [
    "[1] 0\n"
   ]
  },
  {
   "cell_type": "markdown",
   "metadata": {},
   "source": [
    "as.logical(0.45)\n"
   ]
  },
  {
   "cell_type": "markdown",
   "metadata": {},
   "source": [
    "[1] TRUE\n"
   ]
  },
  {
   "cell_type": "markdown",
   "metadata": {},
   "source": [
    "논리값인 TRUE와 FALSE를 수치형으로 변환하면 FALSE를 0으로, TRUE를 1로 바꾼다. 반대로 논리값으로 변경하면 0일 때만 FALSE고 아니면 TRUE다."
   ]
  },
  {
   "cell_type": "markdown",
   "metadata": {},
   "source": [
    "as.matrix(mydat)\n"
   ]
  },
  {
   "cell_type": "markdown",
   "metadata": {},
   "source": [
    "     income car       marriage\n"
   ]
  },
  {
   "cell_type": "markdown",
   "metadata": {},
   "source": [
    "[1,] \"100\"  \"kia\"     \"FALSE\" \n"
   ]
  },
  {
   "cell_type": "markdown",
   "metadata": {},
   "source": [
    "[2,] \"200\"  \"hyundai\" \"FALSE\" \n"
   ]
  },
  {
   "cell_type": "markdown",
   "metadata": {},
   "source": [
    "[3,] \"150\"  \"kia\"     \"FALSE\" \n"
   ]
  },
  {
   "cell_type": "markdown",
   "metadata": {},
   "source": [
    "[4,] \"300\"  \"toyota\"  \"TRUE\"  \n"
   ]
  },
  {
   "cell_type": "markdown",
   "metadata": {},
   "source": [
    "[5,] \"900\"  \"lexus\"   \"TRUE\"  \n"
   ]
  },
  {
   "cell_type": "markdown",
   "metadata": {},
   "source": [
    "데이터 프레임을 행렬로 변환하기도 한다. 문자형 데이터만 저장되는 행렬로 변환했기에 숫자형 값으로 인식되던(100,200..) 값들도 문자형으로 강제 전환된다. income,marriage열은 문자형이 아니지만 모두 변환된 것...."
   ]
  },
  {
   "cell_type": "markdown",
   "metadata": {},
   "source": [
    "### 문자열을 날짜로 변환"
   ]
  },
  {
   "cell_type": "markdown",
   "metadata": {},
   "source": [
    "문자열로 된 날짜 데이터를 실제 날짜의 의미를 가지는 date 객체로 변환.. "
   ]
  },
  {
   "cell_type": "markdown",
   "metadata": {},
   "source": [
    "Sys.Date(): # 현재 날짜를 반환한다."
   ]
  },
  {
   "cell_type": "markdown",
   "metadata": {},
   "source": [
    "as.Date(): # 날짜 객체로 변환한다. 기본으로 문자열이 yyyy-mm-dd인 것을 가정함... 그 외 형식은 'format='옵션을 통해 별도 지정"
   ]
  },
  {
   "cell_type": "markdown",
   "metadata": {},
   "source": [
    "as.Date(\"2015-01-13\")\n"
   ]
  },
  {
   "cell_type": "markdown",
   "metadata": {},
   "source": [
    "[1] \"2015-01-13\"\n"
   ]
  },
  {
   "cell_type": "markdown",
   "metadata": {},
   "source": [
    "as.Date(\"01/13/2015\")\n"
   ]
  },
  {
   "cell_type": "markdown",
   "metadata": {},
   "source": [
    "Error in charToDate(x) : 문자열이 표준서식을 따르지 않습니다\n"
   ]
  },
  {
   "cell_type": "markdown",
   "metadata": {},
   "source": [
    " as.Date(\"01/13/2015\",format = \"%m/%d/%Y\")\n"
   ]
  },
  {
   "cell_type": "markdown",
   "metadata": {},
   "source": [
    "[1] \"2015-01-13\""
   ]
  },
  {
   "cell_type": "markdown",
   "metadata": {},
   "source": [
    "### 날짜를 문자열로 변환"
   ]
  },
  {
   "cell_type": "markdown",
   "metadata": {},
   "source": [
    "위와 반대로 날짜를 나타내는 Date 객체 역시 문자열로 변환 가능하다. format 명령어를 통해 날짜 외에도 다양한 데이터의 포맷을 변경할 수 있다."
   ]
  },
  {
   "cell_type": "markdown",
   "metadata": {},
   "source": [
    "format(데이터,포맷)"
   ]
  },
  {
   "cell_type": "markdown",
   "metadata": {},
   "source": [
    "as.character()"
   ]
  },
  {
   "cell_type": "markdown",
   "metadata": {},
   "source": [
    "as.Date(\"08/13/2013\",format = \"%m/%d/%Y\")\n"
   ]
  },
  {
   "cell_type": "markdown",
   "metadata": {},
   "source": [
    "[1] \"2013-08-13\"\n"
   ]
  },
  {
   "cell_type": "markdown",
   "metadata": {},
   "source": [
    " format(Sys.Date())\n"
   ]
  },
  {
   "cell_type": "markdown",
   "metadata": {},
   "source": [
    "[1] \"2020-06-01\"\n"
   ]
  },
  {
   "cell_type": "markdown",
   "metadata": {},
   "source": [
    "as.character(Sys.Date())\n"
   ]
  },
  {
   "cell_type": "markdown",
   "metadata": {},
   "source": [
    "[1] \"2020-06-01\"\n"
   ]
  },
  {
   "cell_type": "markdown",
   "metadata": {},
   "source": [
    " format(Sys.Date(),format=\"%m/%d/%Y\")\n"
   ]
  },
  {
   "cell_type": "markdown",
   "metadata": {},
   "source": [
    "[1] \"06/01/2020\"\n"
   ]
  },
  {
   "cell_type": "markdown",
   "metadata": {},
   "source": [
    "현재 날짜를 문자형 변수로 변환할 때 format과 as.character가 같은 결과가 나온다. format=옵션으로 yyyy-mm-dd를 mm-dd-yyyy로 출력되게 정의했다."
   ]
  },
  {
   "cell_type": "markdown",
   "metadata": {},
   "source": [
    "format의 옵션으로 Date객체에서 요일,날짜만을 간편하게 추출할 수 있다."
   ]
  },
  {
   "cell_type": "markdown",
   "metadata": {},
   "source": [
    "format(Sys.Date(), '%a') # '%a'는 요일을 출력한다."
   ]
  },
  {
   "cell_type": "markdown",
   "metadata": {},
   "source": [
    "[1] \"월\""
   ]
  },
  {
   "cell_type": "markdown",
   "metadata": {},
   "source": [
    " format(Sys.Date(), '%b') # '%b\"는 월을 출력한다."
   ]
  },
  {
   "cell_type": "markdown",
   "metadata": {},
   "source": [
    "[1] \"6\"\n"
   ]
  },
  {
   "cell_type": "markdown",
   "metadata": {},
   "source": [
    "format(Sys.Date(), '%m')   # '%m'은 두 자리 숫자로 월을 출력한다."
   ]
  },
  {
   "cell_type": "markdown",
   "metadata": {},
   "source": [
    "[1] \"06\"\n"
   ]
  },
  {
   "cell_type": "markdown",
   "metadata": {},
   "source": [
    "format(Sys.Date(), '%d') # '%d'는 두 자리 숫자로 일을 출력한다."
   ]
  },
  {
   "cell_type": "markdown",
   "metadata": {},
   "source": [
    "[1] \"01\""
   ]
  },
  {
   "cell_type": "markdown",
   "metadata": {},
   "source": [
    "format(Sys.Date(), '%y') # '%y'는 두 자리 숫자로 연도를 출력한다."
   ]
  },
  {
   "cell_type": "markdown",
   "metadata": {},
   "source": [
    "[1] \"20\"\n"
   ]
  },
  {
   "cell_type": "markdown",
   "metadata": {},
   "source": [
    "format(Sys.Date(), '%Y') # '%Y'는 네 자리 숫자로 된 연도를 출력한다."
   ]
  },
  {
   "cell_type": "markdown",
   "metadata": {},
   "source": [
    "[1] \"2020\"\n"
   ]
  },
  {
   "cell_type": "markdown",
   "metadata": {},
   "source": [
    "## R 그래픽 기능"
   ]
  },
  {
   "cell_type": "markdown",
   "metadata": {},
   "source": [
    "R은 그래픽 기능이 다양하고 자유자재로 그림/그래프를 그릴 수 있고 세세하게 설정이 가능. 특화된 패키지를 통해 높은 수준의 그래프도 작성이 가능하다. "
   ]
  },
  {
   "cell_type": "markdown",
   "metadata": {},
   "source": [
    "명령어로 그림을 그려내는 경우 별도의 창이 생성되어 나타나고 우측 하단 Plot 탭에서 볼 수 있다."
   ]
  },
  {
   "cell_type": "markdown",
   "metadata": {},
   "source": [
    "### 산점도 그래프"
   ]
  },
  {
   "cell_type": "markdown",
   "metadata": {},
   "source": [
    "x/y변수의 값을 평면에 점을 찍어 표현한다. plot(x, y)함수는 x에 대한 y의 그래프를 그려준다. plot(y~x)라는 형태로도 마찬가지로 그릴 수 있다."
   ]
  },
  {
   "cell_type": "markdown",
   "metadata": {},
   "source": [
    "height = c(170,168,174,175,188,165,165,190,173,168,159,170,184,155,165)\n"
   ]
  },
  {
   "cell_type": "markdown",
   "metadata": {},
   "source": [
    "weight = c(68,65,74,77,92,63,67,95,72,69,60,69,73,56,55)\n"
   ]
  },
  {
   "cell_type": "markdown",
   "metadata": {},
   "source": [
    "plot(height,weight)\n"
   ]
  },
  {
   "cell_type": "markdown",
   "metadata": {},
   "source": [
    "키에 대한 몸무게의 산점도이다. "
   ]
  },
  {
   "cell_type": "markdown",
   "metadata": {},
   "source": [
    "### 산점도 행렬"
   ]
  },
  {
   "cell_type": "markdown",
   "metadata": {},
   "source": [
    "여러 변수 각각의 산점도를 볼 수 있게 확장한 산점도 행렬이다. 여러 변수들을 표현하려면 다차원의 공간이 필요하기에 도입된 방식이다."
   ]
  },
  {
   "cell_type": "markdown",
   "metadata": {},
   "source": [
    "산점도 행렬은 pairs 명령어로 그릴 수 있다. 'main='옵션은 그래프의 최상단에 제목을 표기한다. 'pch='옵션은 그래프상의 점 모양을 변경한다."
   ]
  },
  {
   "cell_type": "markdown",
   "metadata": {},
   "source": [
    "pairs(iris[1:4],main = \"Anderson's Iris Data -- 3 species\",\n"
   ]
  },
  {
   "cell_type": "markdown",
   "metadata": {},
   "source": [
    "+pch = 21, bg = c(\"red\", \"green3\", \"blue\")[unclass(iris$Species)])\n"
   ]
  },
  {
   "cell_type": "markdown",
   "metadata": {},
   "source": [
    "'bg='옵션은 데이터의 species에 따라 다른 색상을 부여한다."
   ]
  },
  {
   "cell_type": "markdown",
   "metadata": {},
   "source": [
    "### 히스토그램과 상자그림"
   ]
  },
  {
   "cell_type": "markdown",
   "metadata": {},
   "source": [
    "탐색적 자료 분석에서 자료의 분포를 쉽게 확인하는 방법으로 히스토그램이나 상자그림을 간편한 코드로 그린다. 축/간격 조절은 함수의 옵션으로 가능하다."
   ]
  },
  {
   "cell_type": "markdown",
   "metadata": {},
   "source": [
    "StatScore = c(88,90,78,84,76,68,50,48,33,70,48,66,88,96,79,65,27,88,96,33,64,48,77,18,26,44,48,68,77,64,88,95,79,88,49,30,29,10,49,88)"
   ]
  },
  {
   "cell_type": "markdown",
   "metadata": {},
   "source": [
    "hist(StatScore,prob=T) # hist 함수는 히스토그램을 그려주는 함수이며 세로축에 도수를 표기한다. prob=T 옵션으로 상대도수를 표시하게 변경할 수 있다."
   ]
  },
  {
   "cell_type": "markdown",
   "metadata": {},
   "source": [
    "boxplot(StatScore) # boxplot 함수는 상자 그림을 그려준다."
   ]
  },
  {
   "cell_type": "markdown",
   "metadata": {},
   "source": []
  },
  {
   "cell_type": "markdown",
   "metadata": {},
   "source": []
  }
 ],
 "metadata": {
  "kernelspec": {
   "display_name": "Python 3",
   "language": "python",
   "name": "python3"
  },
  "language_info": {
   "codemirror_mode": {
    "name": "ipython",
    "version": 3
   },
   "file_extension": ".py",
   "mimetype": "text/x-python",
   "name": "python",
   "nbconvert_exporter": "python",
   "pygments_lexer": "ipython3",
   "version": "3.7.6"
  }
 },
 "nbformat": 4,
 "nbformat_minor": 4
}
