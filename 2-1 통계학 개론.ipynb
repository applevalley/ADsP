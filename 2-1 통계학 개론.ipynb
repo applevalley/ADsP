{
 "cells": [
  {
   "cell_type": "markdown",
   "metadata": {},
   "source": [
    "## 통계 분석 개요"
   ]
  },
  {
   "cell_type": "markdown",
   "metadata": {},
   "source": [
    "### 통계학이란?"
   ]
  },
  {
   "cell_type": "markdown",
   "metadata": {},
   "source": [
    "통계학 -> 자료로부터 유용한 정보를 이끄는 학문.. 유용한 정보 이끄는 작업에는 자료의 수집, 정리, 해석하는 방법을 모두 포함함."
   ]
  },
  {
   "cell_type": "markdown",
   "metadata": {},
   "source": [
    "### 모집단과 표본"
   ]
  },
  {
   "cell_type": "markdown",
   "metadata": {},
   "source": [
    "정보에는 그 대상이 있음 -> 유용한 정보의 대상이 되는 것을 모집단이라고 함.. 즉 모집단 = __우리가 알고자 하는 전체__를 의미"
   ]
  },
  {
   "cell_type": "markdown",
   "metadata": {},
   "source": [
    "모집단을 구성하는 개체 -> 추출단위, 원소라고 함."
   ]
  },
  {
   "cell_type": "markdown",
   "metadata": {},
   "source": [
    "모집단에 대한 조사 방법 ----> 총조사와 표본조사로 나뉨"
   ]
  },
  {
   "cell_type": "markdown",
   "metadata": {},
   "source": [
    "1) 총조사: 모집단의 개체 모두를 조사하는 방법. 많은 시간,비용이 소모됨.. 인구주택총조사같이 특별한 경우 아니면 안한다"
   ]
  },
  {
   "cell_type": "markdown",
   "metadata": {},
   "source": [
    "2) 표본조사: 일부분만 조사해 모집단에 대해 추론함. 조사하는 모집단의 일부분을 표본이라 한다. 모집단에 대해 알고자 하는 값을 모수(parameter)라고 하고, 모수를 추론하기 위해 구하는 표본의 값들을 통계량(statistic)이라 한다."
   ]
  },
  {
   "cell_type": "markdown",
   "metadata": {},
   "source": [
    "모집단은 유한/무한 모집단으로 나뉜다... 유한: 유한 개의 개체로 이루어진 모집단 / 무한: 무한 개... 보통 개념적으로 상정되는 모집단임"
   ]
  },
  {
   "cell_type": "markdown",
   "metadata": {},
   "source": [
    "### 표본추출의 방법"
   ]
  },
  {
   "cell_type": "markdown",
   "metadata": {},
   "source": [
    "표본조사 바탕으로 분석한 결과를 사용하거나 이해하려고 할 때는 모집단의 정의, 표본의 크기, 조사방법(면접,우편,전화,온라인..),조사기간, 표본추출 방법을 명확히 밝히거나 확인해야 한다."
   ]
  },
  {
   "cell_type": "markdown",
   "metadata": {},
   "source": [
    "표본조사에서 가장 중요한 것은 모집단을 대표할 수 있는 표본 추출... 대표적으로 단순랜덤추출법과 계통추출법 등이 있다."
   ]
  },
  {
   "cell_type": "markdown",
   "metadata": {},
   "source": [
    "1) 단순랜덤추출법: N개의 원소로 구성된 모집단에서 n개 (n <= N)의 표본을 추출할 때 각 원소에 1,2,...N까지의 원소를 부여한다. 여기서 n개의 번호를 임의로 선택해 그 번호에 해당하는 원소를 표본으로 추출한다."
   ]
  },
  {
   "cell_type": "markdown",
   "metadata": {},
   "source": [
    "2) 계통추출법: 모집단의 모든 원소들에게 1,2,...N의 일련번호를 부여하고 순서대로 나열한 후 K개(K=N/n)씩 n개의 구간으로 나눈다. 첫 구간(1,2,...N)에서 하나를 임의로 선택한 후에 K개씩 띄어서 표본을 추출한다."
   ]
  },
  {
   "cell_type": "markdown",
   "metadata": {},
   "source": [
    "3) 집략추출법:  모집단이 몇 개의 집락(cluster)이 결합된 형태로 구성되고, 각 집단에서 원소들에게 일련번호를 부여할 수 있는 경우에 이용된다. 일부 집락을 랜덤으로 선택하고 선택된 각 집락에서 표본을 임의로 선택한다."
   ]
  },
  {
   "cell_type": "markdown",
   "metadata": {},
   "source": [
    "4) 층화추출법: 상당히 이질적인 원소들로 구성된 모집단에서 각 계층을 고루 대표할 수 있도록 표본을 추출한다. 이질적인 모집단의 원소들을 서로 유사한 것들끼리 몇 개의 층(stratum)으로 나눈 후 각 층에서 표본을 랜덤으로 추출한다."
   ]
  },
  {
   "cell_type": "markdown",
   "metadata": {},
   "source": [
    "표본조사 외에 자료를 수집하는 방법으로는 실험이 있다. 표본조사는 대상 집단의 일부를 추출해 어떤 현상을 관측, 조사해 자료를 수집하는 데 비해 실험이란 특정 목적 하에 실험 대상에게 처리를 가한 후에 그 결과를 관측해 자료를 수집하는 방법이다."
   ]
  },
  {
   "cell_type": "markdown",
   "metadata": {},
   "source": [
    "### 자료의 종류"
   ]
  },
  {
   "cell_type": "markdown",
   "metadata": {},
   "source": [
    "표본조사,실험 실시 과정에서 추출된 원소들이나 실험 단위로부터 주어진 목적에 부합하도록 관측해 자료를 얻는 것을 측정(measurement)라 한다."
   ]
  },
  {
   "cell_type": "markdown",
   "metadata": {},
   "source": [
    "측정방법은 크게 명목척도(nominal scale), 순서척도(ordinal scale), 구간척도(interval scale), 비율적도(ratio scale)로 구분할 수 있다. "
   ]
  },
  {
   "cell_type": "markdown",
   "metadata": {},
   "source": [
    "명목척도/순서척도로 측정된 자료를 질적 자료라 하고, 구간척도/비율척도로 측정된 자료는 양적 자료라 정의한다."
   ]
  },
  {
   "cell_type": "markdown",
   "metadata": {},
   "source": [
    "1) 명목척도: 측정 대상이 어느 집단에 속하는지 분류할 때 사용함. 성별 구분, 출생지 구분 등이 명목척도에 해당된다."
   ]
  },
  {
   "cell_type": "markdown",
   "metadata": {},
   "source": [
    "2) 순서척도: 측정 대상의 특성이 가지는 서열관계를 관측함. 선택사항이 일정한 순서로 되어 있음. 특정 서비스 선호도 구분해 묻는 관측 자료 등이 해당."
   ]
  },
  {
   "cell_type": "markdown",
   "metadata": {},
   "source": [
    "3) 구간척도: 측정 대상이 가지는 속성의 양을 측정함. 측정결과가 숫자로 표시되나 해당 속성이 전혀 없는 상태인 절대적 원점이 없다. 따라서 두 관측값 사이의 비율은 별 의미없는 척도로 온도, 지수 등이 구간척도에 해당된다."
   ]
  },
  {
   "cell_type": "markdown",
   "metadata": {},
   "source": [
    "4) 비율척도: 절대적 기준인 0값이 존재하고 모든 사칙연산이 가능하며 제일 많은 정보를 가진다. 무게, 나이, 연간소득 등 숫자로 관측되는 일반적인 자료의 특성이 비율척도에 해당된다."
   ]
  },
  {
   "cell_type": "markdown",
   "metadata": {},
   "source": [
    "## 통계 분석"
   ]
  },
  {
   "cell_type": "markdown",
   "metadata": {},
   "source": [
    "통계 분석 -> 특정 집단, 불확실한 현상을 대상으로 자료 수집해 대상 집단의 정보를 구하고, 적절한 통계 분석 방식으로 의사결정하는 과정"
   ]
  },
  {
   "cell_type": "markdown",
   "metadata": {},
   "source": [
    "대상 집단에 대한 정보 -> 자료를 요약,정리한 결과.. 숫자, 그림으로 정리된 각종 통계를 의미"
   ]
  },
  {
   "cell_type": "markdown",
   "metadata": {},
   "source": [
    "통계적 추론 -> 수집된 자료를 이용해 대상 집단(모집단)에 대해 의사결정 내리는 것"
   ]
  },
  {
   "cell_type": "markdown",
   "metadata": {},
   "source": [
    "대상 집단의 특성값(모수)가 무엇일까? 추측하는 __추정__과 대상 집단에 대해 특정한 가설을 설정한 후 채택 여부를 결정하는 __가설검정__으로 나뉜다."
   ]
  },
  {
   "cell_type": "markdown",
   "metadata": {},
   "source": [
    "## 확률 및 확률분포"
   ]
  },
  {
   "cell_type": "markdown",
   "metadata": {},
   "source": [
    "### 확률이란?"
   ]
  },
  {
   "cell_type": "markdown",
   "metadata": {},
   "source": [
    "확률 -> 특정 사건이 일어날 가능성의 척도. 통계적 실험 실시할 때 나타날 수 있는 모든 결과의 집합을 표본공간이라 하고, 사건은 표본공간의 부분집합"
   ]
  },
  {
   "cell_type": "markdown",
   "metadata": {},
   "source": [
    "사건 중에서 오직 한 개의 원소로만 이루어진 사건을 근원사건이라 함."
   ]
  },
  {
   "cell_type": "markdown",
   "metadata": {},
   "source": [
    "사건 E의 확률 = n(E) / n(표본공간) .. 표본공간이 유한 개의 원소여야 하고 근원사건들이 일어날 가능성은 모두 같아야 함"
   ]
  },
  {
   "cell_type": "markdown",
   "metadata": {},
   "source": [
    "일반적으로 확률은..."
   ]
  },
  {
   "cell_type": "markdown",
   "metadata": {},
   "source": [
    "1) 모든 사건 E의 확률값은 0과 1 사이에 있다. "
   ]
  },
  {
   "cell_type": "markdown",
   "metadata": {},
   "source": [
    "2) 전체 집합의 확률은 1이다."
   ]
  },
  {
   "cell_type": "markdown",
   "metadata": {},
   "source": [
    "3) 서로 배반인 사건들의 합집합의 확률은 각 사건들의 확률의 합이다. * 배반 사건:교집합이 공집합인 사건들"
   ]
  },
  {
   "cell_type": "markdown",
   "metadata": {},
   "source": [
    "### 조건부 확률과 독립사건"
   ]
  },
  {
   "cell_type": "markdown",
   "metadata": {},
   "source": [
    "사건 A가 일어났다는 가정 하의 사건 B의 확률을 조건부 확률이라 한다. 사건 A가 주어졌을 때 조건부 확률은 P(B|A)로 표시한다."
   ]
  },
  {
   "cell_type": "markdown",
   "metadata": {},
   "source": [
    "P(B|A) = P(A 교집합 B) / P(A)   * 위 확률은 P(A) > 0 일 때에만 정의된다.."
   ]
  },
  {
   "cell_type": "markdown",
   "metadata": {},
   "source": [
    "두 사건 A,B가 P(A 교집합 B) = P(A) P(B)를 만족하면 서로 독립이라 한다. 그렇다면 P(B|A) = P(B)가 된다.  "
   ]
  },
  {
   "cell_type": "markdown",
   "metadata": {},
   "source": [
    "고로 사건 B의 확률은 A가 일어났다는 가정 하에서의 B의 조건부확률과 같다! 사건 B의 확률은 A의 발생 여부와 관계없이 동일하다"
   ]
  },
  {
   "cell_type": "markdown",
   "metadata": {},
   "source": [
    "### 확률변수와 확률분포"
   ]
  },
  {
   "cell_type": "markdown",
   "metadata": {},
   "source": [
    "특정값이 나타날 가능성이 확률적으로 주어지는 변수를 확률변수(random variable)이라 한다. "
   ]
  },
  {
   "cell_type": "markdown",
   "metadata": {},
   "source": [
    "수학적으로, 확률변수는 정의역(domain)이 표본공간이고 치역(range)이 실수값인 함수다."
   ]
  },
  {
   "cell_type": "markdown",
   "metadata": {},
   "source": [
    "확률변수에는 이산형 확률변수(discrete random variable)와 연속형 확률변수(continuous random variable)이 있다."
   ]
  },
  {
   "cell_type": "markdown",
   "metadata": {},
   "source": [
    "이산형 확률변수: 사건의 확률이 그 사건들이 속한 점들의 확률 합으로 표현할 수 있는 확률변수를 말한다. 확률이 0보다 큰 값을 갖는 점들로 확률 표현 가능"
   ]
  },
  {
   "cell_type": "markdown",
   "metadata": {},
   "source": [
    "각 이산점에서 확률의 크기를 표현하는 함수를 확률질량함수(probability mass function)이라 한다."
   ]
  },
  {
   "cell_type": "markdown",
   "metadata": {},
   "source": [
    "연속형 확률변수: 사건의 확률이 그 사건 위에서 어떤 0보다 큰 값을 갖는 함수의 면적으로 표현될 수 있는 확률변수를 말한다."
   ]
  },
  {
   "cell_type": "markdown",
   "metadata": {},
   "source": [
    "## 추정과 가설 검정"
   ]
  },
  {
   "cell_type": "markdown",
   "metadata": {},
   "source": [
    "### 점추정"
   ]
  },
  {
   "cell_type": "markdown",
   "metadata": {},
   "source": [
    "통계적 방법론을 통해 알고자 하는 대상 = 모집단의 확률분포. 모집단의 확률분포의 특징을 표현하는 값들을 모수(parameter)라 한다."
   ]
  },
  {
   "cell_type": "markdown",
   "metadata": {},
   "source": [
    "대표적으로 평균, 분산, 표준편차 등이 있고 모집단에서 추출된 표본 기반으로 모수들에 대한 통계적 추론을 한다."
   ]
  },
  {
   "cell_type": "markdown",
   "metadata": {},
   "source": [
    "통계적 추론은 추정과 가설 검정으로 나뉘고, 추정은 다시 점추정과 구간추정으로 나뉜다"
   ]
  },
  {
   "cell_type": "markdown",
   "metadata": {},
   "source": [
    "가장 참값이라고 여겨지는 하나의 모수의 값을 택하는 것을 점추정(point estimation)이라고 하며 이는 모수가 특정한 값일 것이라 추정하는 것이다."
   ]
  },
  {
   "cell_type": "markdown",
   "metadata": {},
   "source": [
    "모집단의 평균을 추정하기 위한 추정량(estimator)은 확률표본의 평균값인 표본평균이 대표적이다."
   ]
  },
  {
   "cell_type": "markdown",
   "metadata": {},
   "source": [
    "모집단의 분산을 추정하기 위한 추정량으로는 표본분산이 대표적이다."
   ]
  },
  {
   "cell_type": "markdown",
   "metadata": {},
   "source": [
    "### 구간추정"
   ]
  },
  {
   "cell_type": "markdown",
   "metadata": {},
   "source": [
    "점추정은 모수가 특정한 값이라고 선언하는 것이기에 사실상 추정의 결과가 얼마나 정확할지 판단할 수 없다."
   ]
  },
  {
   "cell_type": "markdown",
   "metadata": {},
   "source": [
    "이런 정확성의 문제를 보완한 것이 구간추정이다. 구간추정은 일정한 크기의 신뢰수준으로 모수가 특정한 구간에 있을 것이라 선언하는 것이다."
   ]
  },
  {
   "cell_type": "markdown",
   "metadata": {},
   "source": [
    "이를 통해 구해진 구간을 신뢰구간(confidence interval)이라 하고 90%, 95%, 99%의 확률을 이용한다."
   ]
  },
  {
   "cell_type": "markdown",
   "metadata": {},
   "source": [
    "신뢰수준 95%의 의미는 한 모집단에서 동일한 방법으로 동일한 자료의 개수의 확률표본을 무한히 추출해 각 표본마다 신뢰구간을 구하면 95%의 신뢰구간이 미지의 모수를 포함한다는 것이다."
   ]
  },
  {
   "cell_type": "markdown",
   "metadata": {},
   "source": [
    "-> 이는 주어진 한 신뢰구간이 미지의 모수를 포함할 확률이 0.95라는 것과는 다르다. 주어진 신뢰구간은 특정한 숫자로 표현되고, 모수도 알 수 없는 특정한 값이므로 확률로 딱 잘라 해석하기는 어렵다."
   ]
  },
  {
   "cell_type": "markdown",
   "metadata": {},
   "source": [
    "### 가설검정"
   ]
  },
  {
   "cell_type": "markdown",
   "metadata": {},
   "source": [
    "가설검정 -> 모집단에 대한 가설을 설정한 뒤 표본관찰로 그 가설의 채택여부를 결정하는 분석방법"
   ]
  },
  {
   "cell_type": "markdown",
   "metadata": {},
   "source": [
    "기본적인 사항은 검정하고자 하는 모집단의 모수에 대한 가설 설정임. 가설은 항상 귀무가설과 대립가설로 설정하고, 가설검정이란 표본관찰, 실험을 통해 귀무가설과 대립가설 중 하나를 선택하는 과정이라고 볼 수 있다."
   ]
  },
  {
   "cell_type": "markdown",
   "metadata": {},
   "source": [
    "-> 주어진 두 가설 중 어떤 가설을 귀무/대립으로 정하는지에는 규칙이 있다. 확실히 증명하려는 가설, 명확한 증거가 있어야 채택 가능한 가설, 또는 그 결과가 값비싼 가설을 대립가설로 설정하고 그의 반대 증거를 찾기 위해 정한 가설을 귀무가설로 지정한다."
   ]
  },
  {
   "cell_type": "markdown",
   "metadata": {},
   "source": [
    "가설검정은 귀무가설이 옳다는 전제 하에 관측된 검정통계량의 값보다 더 대립가설을 지지하는 값이 나타날 확률을 구해 귀무가설 채택여부를 결정한다."
   ]
  },
  {
   "cell_type": "markdown",
   "metadata": {},
   "source": [
    "귀무가설이 사실이면 관측된 검정통계량의 값보다 더 대립가설을 지지하는 검정통계량이 나올 확률을 p-값(p-value)라고 한다."
   ]
  },
  {
   "cell_type": "markdown",
   "metadata": {},
   "source": [
    "-> 이 값이 주어진 기준값인 유의수준(보통 0.01,0.05,0.1중 하나 사용)보다 작으면 귀무가설이 나올 가능성이 낮다 판단해 귀무가설을 기각한다. "
   ]
  },
  {
   "cell_type": "markdown",
   "metadata": {},
   "source": [
    "#### 가설 검정 과정에서 발생하는 오류"
   ]
  },
  {
   "cell_type": "markdown",
   "metadata": {},
   "source": [
    "1) 귀무가설이 옳은데도 기각하게 되는 오류 -> 제 1종 오류"
   ]
  },
  {
   "cell_type": "markdown",
   "metadata": {},
   "source": [
    "2) 귀무가설이 옳지 않은데도 채택하는 오류 -> 제 2종 오류"
   ]
  },
  {
   "cell_type": "markdown",
   "metadata": {},
   "source": [
    "두 오류는 서로 상충관계가 있어 보통 가설검정에서는 제 1종 오류의 크기를 0.1,0.05,0.01 등으로 고정한 후 제 2종 오류가 최소가 되도록 기각역을 설정함."
   ]
  },
  {
   "cell_type": "markdown",
   "metadata": {},
   "source": [
    "## 비모수 검정"
   ]
  },
  {
   "cell_type": "markdown",
   "metadata": {},
   "source": [
    "통계적 추론에서 모집단의 모수에 대한 검정 -> 모수적 방법(parametric method) / 비모수적 방법(nonparametric method)가 있음."
   ]
  },
  {
   "cell_type": "markdown",
   "metadata": {},
   "source": [
    "모수적 방법 -> 검정하려는 모집단의 분포에 대한 가정을 한 뒤 검정통계량과 그 분포를 유도해 검정을 실시하는 방법 "
   ]
  },
  {
   "cell_type": "markdown",
   "metadata": {},
   "source": [
    "비모수적 방법 -> 자료가 추출된 모집단의 분포에 대해 아무 제약 없이 검정 실시.. 관측된 자료가 특정분포를 따른다 가정할 수 없을 때"
   ]
  },
  {
   "cell_type": "markdown",
   "metadata": {},
   "source": [
    "#### 그러면 차이점은 뭐야?"
   ]
  },
  {
   "cell_type": "markdown",
   "metadata": {},
   "source": [
    "가설의 검정에서 모수적 방법에서는 가정된 분포가 없기에 가설은 단지 분포의 형태가 동일하다/동일하지 않다 같이 분포의 형태에 대해 설정함."
   ]
  },
  {
   "cell_type": "markdown",
   "metadata": {},
   "source": [
    "모수적 방법에서는 관측된 자료를 이용해 구한 표본평균,표본분산을 이용해 검정하지만 비모수 방법에서는 관측값의 절대적 크기에 의존하지 않는 관측값들의 순위나 두 관측값 차이의 부호를 이용해 검정한다."
   ]
  }
 ],
 "metadata": {
  "kernelspec": {
   "display_name": "Python 3",
   "language": "python",
   "name": "python3"
  },
  "language_info": {
   "codemirror_mode": {
    "name": "ipython",
    "version": 3
   },
   "file_extension": ".py",
   "mimetype": "text/x-python",
   "name": "python",
   "nbconvert_exporter": "python",
   "pygments_lexer": "ipython3",
   "version": "3.7.6"
  }
 },
 "nbformat": 4,
 "nbformat_minor": 4
}
