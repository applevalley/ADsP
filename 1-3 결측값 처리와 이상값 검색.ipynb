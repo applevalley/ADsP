{
 "cells": [
  {
   "cell_type": "markdown",
   "metadata": {},
   "source": [
    "데이터에는 결측값이나 이상값이 존재.. 효율적으로 처리해서 데이터 정보 손실되거나 왜곡되는 것을 막아야 함!"
   ]
  },
  {
   "cell_type": "markdown",
   "metadata": {},
   "source": [
    "data(iris)"
   ]
  },
  {
   "cell_type": "markdown",
   "metadata": {},
   "source": [
    "head(iris) # 데이터에서 앞 6줄만"
   ]
  },
  {
   "cell_type": "code",
   "execution_count": 1,
   "metadata": {},
   "outputs": [
    {
     "name": "stdout",
     "output_type": "stream",
     "text": [
      "  Sepal.Length Sepal.Width Petal.Length Petal.Width Species\n",
      "1          5.1         3.5          1.4         0.2  setosa\n",
      "2          4.9         3.0          1.4         0.2  setosa\n",
      "3          4.7         3.2          1.3         0.2  setosa\n",
      "4          4.6         3.1          1.5         0.2  setosa\n",
      "5          5.0         3.6          1.4         0.2  setosa\n",
      "6          5.4         3.9          1.7         0.4  setosa\n"
     ]
    }
   ],
   "source": [
    "# 출력\n",
    "print(\"  Sepal.Length Sepal.Width Petal.Length Petal.Width Species\\n1          5.1         3.5          1.4         0.2  setosa\\n2          4.9         3.0          1.4         0.2  setosa\\n3          4.7         3.2          1.3         0.2  setosa\\n4          4.6         3.1          1.5         0.2  setosa\\n5          5.0         3.6          1.4         0.2  setosa\\n6          5.4         3.9          1.7         0.4  setosa\")"
   ]
  },
  {
   "cell_type": "markdown",
   "metadata": {},
   "source": [
    "head(iris, 10) # 뒤에 숫자를 지정하면 원하는 개수만큼 볼 수 있음"
   ]
  },
  {
   "cell_type": "code",
   "execution_count": 2,
   "metadata": {},
   "outputs": [
    {
     "name": "stdout",
     "output_type": "stream",
     "text": [
      "   Sepal.Length Sepal.Width Petal.Length Petal.Width Species\n",
      "1           5.1         3.5          1.4         0.2  setosa\n",
      "2           4.9         3.0          1.4         0.2  setosa\n",
      "3           4.7         3.2          1.3         0.2  setosa\n",
      "4           4.6         3.1          1.5         0.2  setosa\n",
      "5           5.0         3.6          1.4         0.2  setosa\n",
      "6           5.4         3.9          1.7         0.4  setosa\n",
      "7           4.6         3.4          1.4         0.3  setosa\n",
      "8           5.0         3.4          1.5         0.2  setosa\n",
      "9           4.4         2.9          1.4         0.2  setosa\n",
      "10          4.9         3.1          1.5         0.1  setosa\n",
      "\n"
     ]
    }
   ],
   "source": [
    "# 출력\n",
    "print(\"   Sepal.Length Sepal.Width Petal.Length Petal.Width Species\\n1           5.1         3.5          1.4         0.2  setosa\\n2           4.9         3.0          1.4         0.2  setosa\\n3           4.7         3.2          1.3         0.2  setosa\\n4           4.6         3.1          1.5         0.2  setosa\\n5           5.0         3.6          1.4         0.2  setosa\\n6           5.4         3.9          1.7         0.4  setosa\\n7           4.6         3.4          1.4         0.3  setosa\\n8           5.0         3.4          1.5         0.2  setosa\\n9           4.4         2.9          1.4         0.2  setosa\\n10          4.9         3.1          1.5         0.1  setosa\\n\")"
   ]
  },
  {
   "cell_type": "markdown",
   "metadata": {},
   "source": [
    "str(iris) # 데이터의 구조를 파악할 수 있다"
   ]
  },
  {
   "cell_type": "code",
   "execution_count": 6,
   "metadata": {},
   "outputs": [
    {
     "name": "stdout",
     "output_type": "stream",
     "text": [
      "'data.frame':   150 obs. of  5 variables:\n",
      " $ Sepal.Length: num  5.1 4.9 4.7 4.6 5 5.4 4.6 5 4.4 4.9 ...\n",
      " $ Sepal.Width : num  3.5 3 3.2 3.1 3.6 3.9 3.4 3.4 2.9 3.1 ...\n",
      " $ Petal.Length: num  1.4 1.4 1.3 1.5 1.4 1.7 1.4 1.5 1.4 1.5 ...\n",
      " $ Petal.Width : num  0.2 0.2 0.2 0.2 0.2 0.4 0.3 0.2 0.2 0.1 ...\n",
      " $ Species     : Factor w/ 3 levels \"setosa\",\"versicolor\",..: 1 1 1 1 1 1 1 1 1 1 ...\n"
     ]
    }
   ],
   "source": [
    "# 출력\n",
    "print(\"'data.frame':   150 obs. of  5 variables:\\n $ Sepal.Length: num  5.1 4.9 4.7 4.6 5 5.4 4.6 5 4.4 4.9 ...\\n $ Sepal.Width : num  3.5 3 3.2 3.1 3.6 3.9 3.4 3.4 2.9 3.1 ...\\n $ Petal.Length: num  1.4 1.4 1.3 1.5 1.4 1.7 1.4 1.5 1.4 1.5 ...\\n $ Petal.Width : num  0.2 0.2 0.2 0.2 0.2 0.4 0.3 0.2 0.2 0.1 ...\\n $ Species     : Factor w/ 3 levels \"'\"setosa\"'\",\"'\"versicolor\"'\",..: 1 1 1 1 1 1 1 1 1 1 ...\")"
   ]
  },
  {
   "cell_type": "markdown",
   "metadata": {},
   "source": [
    "summary(iris) # 데이터의 기초통계량을 볼 수 있다"
   ]
  },
  {
   "cell_type": "code",
   "execution_count": 7,
   "metadata": {},
   "outputs": [
    {
     "name": "stdout",
     "output_type": "stream",
     "text": [
      "  Sepal.Length    Sepal.Width     Petal.Length    Petal.Width          Species  \n",
      " Min.   :4.300   Min.   :2.000   Min.   :1.000   Min.   :0.100   setosa    :50  \n",
      " 1st Qu.:5.100   1st Qu.:2.800   1st Qu.:1.600   1st Qu.:0.300   versicolor:50  \n",
      " Median :5.800   Median :3.000   Median :4.350   Median :1.300   virginica :50  \n",
      " Mean   :5.843   Mean   :3.057   Mean   :3.758   Mean   :1.199                  \n",
      " 3rd Qu.:6.400   3rd Qu.:3.300   3rd Qu.:5.100   3rd Qu.:1.800                  \n",
      " Max.   :7.900   Max.   :4.400   Max.   :6.900   Max.   :2.500\n"
     ]
    }
   ],
   "source": [
    "# 출력\n",
    "print(\"  Sepal.Length    Sepal.Width     Petal.Length    Petal.Width          Species  \\n Min.   :4.300   Min.   :2.000   Min.   :1.000   Min.   :0.100   setosa    :50  \\n 1st Qu.:5.100   1st Qu.:2.800   1st Qu.:1.600   1st Qu.:0.300   versicolor:50  \\n Median :5.800   Median :3.000   Median :4.350   Median :1.300   virginica :50  \\n Mean   :5.843   Mean   :3.057   Mean   :3.758   Mean   :1.199                  \\n 3rd Qu.:6.400   3rd Qu.:3.300   3rd Qu.:5.100   3rd Qu.:1.800                  \\n Max.   :7.900   Max.   :4.400   Max.   :6.900   Max.   :2.500\")"
   ]
  },
  {
   "cell_type": "markdown",
   "metadata": {},
   "source": [
    "cov(iris[, 1:4]) # 공분산"
   ]
  },
  {
   "cell_type": "code",
   "execution_count": 8,
   "metadata": {},
   "outputs": [
    {
     "name": "stdout",
     "output_type": "stream",
     "text": [
      "             Sepal.Length Sepal.Width Petal.Length Petal.Width\n",
      "Sepal.Length    0.6856935  -0.0424340    1.2743154   0.5162707\n",
      "Sepal.Width    -0.0424340   0.1899794   -0.3296564  -0.1216394\n",
      "Petal.Length    1.2743154  -0.3296564    3.1162779   1.2956094\n",
      "Petal.Width     0.5162707  -0.1216394    1.2956094   0.5810063\n"
     ]
    }
   ],
   "source": [
    "# 출력\n",
    "print(\"             Sepal.Length Sepal.Width Petal.Length Petal.Width\\nSepal.Length    0.6856935  -0.0424340    1.2743154   0.5162707\\nSepal.Width    -0.0424340   0.1899794   -0.3296564  -0.1216394\\nPetal.Length    1.2743154  -0.3296564    3.1162779   1.2956094\\nPetal.Width     0.5162707  -0.1216394    1.2956094   0.5810063\")"
   ]
  },
  {
   "cell_type": "markdown",
   "metadata": {},
   "source": [
    "cor(iris[, 1:4]) # 상관계수"
   ]
  },
  {
   "cell_type": "code",
   "execution_count": 11,
   "metadata": {},
   "outputs": [
    {
     "name": "stdout",
     "output_type": "stream",
     "text": [
      "              Sepal.Length Sepal.Width Petal.Length Petal.Width\n",
      "Sepal.Length    1.0000000  -0.1175698    0.8717538   0.8179411\n",
      "Sepal.Width    -0.1175698   1.0000000   -0.4284401  -0.3661259\n",
      "Petal.Length    0.8717538  -0.4284401    1.0000000   0.9628654\n",
      "Petal.Width     0.8179411  -0.3661259    0.9628654   1.0000000\n"
     ]
    }
   ],
   "source": [
    "# 출력\n",
    "print(\"              Sepal.Length Sepal.Width Petal.Length Petal.Width\\nSepal.Length    1.0000000  -0.1175698    0.8717538   0.8179411\\nSepal.Width    -0.1175698   1.0000000   -0.4284401  -0.3661259\\nPetal.Length    0.8717538  -0.4284401    1.0000000   0.9628654\\nPetal.Width     0.8179411  -0.3661259    0.9628654   1.0000000\")"
   ]
  },
  {
   "cell_type": "markdown",
   "metadata": {},
   "source": [
    "summary 함수를 통해 연속형 변수에서 4분위수, 최소/최대값, 중앙값, 평균 등을 출력하고 범주형 변수에서는 각 범주의 빈도를 출력해 분포를 파악한다."
   ]
  },
  {
   "cell_type": "markdown",
   "metadata": {},
   "source": [
    "연속형 변수인 경우 cov, cor함수를 통해 공분산/상관계수 행렬을 출력해 변수간 선형 상관관계의 강도를 확인한다."
   ]
  },
  {
   "cell_type": "markdown",
   "metadata": {},
   "source": [
    "## 결측값 처리"
   ]
  },
  {
   "cell_type": "markdown",
   "metadata": {},
   "source": [
    "결측값(Missing data) 처리하겠다고 시간을 쏟는 것은 비효율적... 가능하다면 제외하고 처리하는게 낫지만 결측값 자체가 의미를 가지는 경우도 있음."
   ]
  },
  {
   "cell_type": "markdown",
   "metadata": {},
   "source": [
    "-> 결측값을 어떻게 처리하는지에 따라 전체 작업의 속도가 달리지기에 이 부분을 자동화한다면 업무의 효율성이 증가할 것!"
   ]
  },
  {
   "cell_type": "markdown",
   "metadata": {},
   "source": [
    "-> R에서 결측값을 처리하는 패키지에는 Amelia, Mice, mistools등이 있으나 Amelia를 사용해보자. "
   ]
  },
  {
   "cell_type": "markdown",
   "metadata": {},
   "source": [
    "R에서는 결측값을 NA(not available)로 처리한다. 불가능한 값(ex)dividing by zero)은 NaN(not a number)로 처리된다. "
   ]
  },
  {
   "cell_type": "markdown",
   "metadata": {},
   "source": [
    "-> 결측값을 입력하려면 NA를 이용하면 되고, is.na를 이용해 결측값인지의 여부를 알 수 있다."
   ]
  },
  {
   "cell_type": "markdown",
   "metadata": {},
   "source": [
    "a <- c(1,2,3,NA)"
   ]
  },
  {
   "cell_type": "markdown",
   "metadata": {},
   "source": [
    "is.na(a)"
   ]
  },
  {
   "cell_type": "markdown",
   "metadata": {},
   "source": [
    "[1] FALSE FALSE FALSE TRUE"
   ]
  },
  {
   "cell_type": "markdown",
   "metadata": {},
   "source": [
    "특정한 값을 결측값으로 입력한 경우 이를 변환해 처리한다. 99를 결측값으로 처리하려면 해당 값이 있는 위치에 NA를 입력하면 된다!"
   ]
  },
  {
   "cell_type": "markdown",
   "metadata": {},
   "source": [
    "mydata[mydata$v1==99, \"v1\"] <- NA"
   ]
  },
  {
   "cell_type": "markdown",
   "metadata": {},
   "source": [
    "평균 산출 등 데이터 처리에서 결측값으로 인한 문제를 해결하려면 해당 값을 제외하자"
   ]
  },
  {
   "cell_type": "markdown",
   "metadata": {},
   "source": [
    "x <- c(1,2,NA,3)"
   ]
  },
  {
   "cell_type": "markdown",
   "metadata": {},
   "source": [
    "mean(x)"
   ]
  },
  {
   "cell_type": "markdown",
   "metadata": {},
   "source": [
    "[1] NA"
   ]
  },
  {
   "cell_type": "markdown",
   "metadata": {},
   "source": [
    "mean(x, na.rm=T)"
   ]
  },
  {
   "cell_type": "markdown",
   "metadata": {},
   "source": [
    "[1] 2"
   ]
  },
  {
   "cell_type": "markdown",
   "metadata": {},
   "source": [
    "결측값이 포함된 관측치를 complete.cases()함수로 삭제하는데, 결측값이 넓게 분포되었다면 다량의 데이터 삭제에 대한 문제가 있으니 유의할 것"
   ]
  },
  {
   "cell_type": "markdown",
   "metadata": {},
   "source": [
    "mydata[!complete.cases(mydata),]"
   ]
  },
  {
   "cell_type": "markdown",
   "metadata": {},
   "source": [
    "Amelia 패키지 설치 ~"
   ]
  },
  {
   "cell_type": "markdown",
   "metadata": {},
   "source": [
    "install.packages(\"Amelia\")"
   ]
  },
  {
   "cell_type": "markdown",
   "metadata": {},
   "source": [
    "library(Amelia)"
   ]
  },
  {
   "cell_type": "markdown",
   "metadata": {},
   "source": [
    "data(freetrade) # freetrade는 1980~1993년도의 무역정책 자유화에 대한 분석 데이터"
   ]
  },
  {
   "cell_type": "markdown",
   "metadata": {},
   "source": [
    "head(freetrade) # 변수는 연도,국가,관세율,정치지수(-10 ~ 10 자유화된 국가는 10가짐),총인구,국민총생산,총국제준비액 등..."
   ]
  },
  {
   "cell_type": "code",
   "execution_count": 12,
   "metadata": {},
   "outputs": [
    {
     "name": "stdout",
     "output_type": "stream",
     "text": [
      "  year  country tariff polity      pop   gdp.pc intresmi signed fiveop     usheg\n",
      "1 1981 SriLanka     NA      6 14988000 461.0236 1.937347      0   12.4 0.2593112\n",
      "2 1982 SriLanka     NA      5 15189000 473.7634 1.964430      0   12.5 0.2558008\n",
      "3 1983 SriLanka   41.3      5 15417000 489.2266 1.663936      1   12.3 0.2655022\n",
      "4 1984 SriLanka     NA      5 15599000 508.1739 2.797462      0   12.3 0.2988009\n",
      "5 1985 SriLanka   31.0      5 15837000 525.5609 2.259116      0   12.3 0.2952431\n",
      "6 1986 SriLanka     NA      5 16117000 538.9237 1.832549      0   12.5 0.2886563\n"
     ]
    }
   ],
   "source": [
    "# 출력\n",
    "print(\"  year  country tariff polity      pop   gdp.pc intresmi signed fiveop     usheg\\n1 1981 SriLanka     NA      6 14988000 461.0236 1.937347      0   12.4 0.2593112\\n2 1982 SriLanka     NA      5 15189000 473.7634 1.964430      0   12.5 0.2558008\\n3 1983 SriLanka   41.3      5 15417000 489.2266 1.663936      1   12.3 0.2655022\\n4 1984 SriLanka     NA      5 15599000 508.1739 2.797462      0   12.3 0.2988009\\n5 1985 SriLanka   31.0      5 15837000 525.5609 2.259116      0   12.3 0.2952431\\n6 1986 SriLanka     NA      5 16117000 538.9237 1.832549      0   12.5 0.2886563\")"
   ]
  },
  {
   "cell_type": "markdown",
   "metadata": {},
   "source": [
    "str(freetrade) # 데이터 구조 파악"
   ]
  },
  {
   "cell_type": "code",
   "execution_count": 14,
   "metadata": {},
   "outputs": [
    {
     "name": "stdout",
     "output_type": "stream",
     "text": [
      "'data.frame':   171 obs. of  10 variables:\n",
      " $ year    : int  1981 1982 1983 1984 1985 1986 1987 1988 1989 1990 ...\n",
      " $ country : chr  \"SriLanka\" \"SriLanka\" \"SriLanka\" \"SriLanka\" ...\n",
      " $ tariff  : num  NA NA 41.3 NA 31 ...\n",
      " $ polity  : int  6 5 5 5 5 5 5 5 5 5 ...\n",
      " $ pop     : num  14988000 15189000 15417000 15599000 15837000 ...\n",
      " $ gdp.pc  : num  461 474 489 508 526 ...\n",
      " $ intresmi: num  1.94 1.96 1.66 2.8 2.26 ...\n",
      " $ signed  : int  0 0 1 0 0 0 0 1 0 0 ...\n",
      " $ fiveop  : num  12.4 12.5 12.3 12.3 12.3 ...\n",
      " $ usheg   : num  0.259 0.256 0.266 0.299 0.295 ...\n"
     ]
    }
   ],
   "source": [
    "# 출력\n",
    "print(\"'data.frame':   171 obs. of  10 variables:\\n $ year    : int  1981 1982 1983 1984 1985 1986 1987 1988 1989 1990 ...\\n $ country : chr  \\\"SriLanka\\\" \\\"SriLanka\\\" \\\"SriLanka\\\" \\\"SriLanka\\\" ...\\n $ tariff  : num  NA NA 41.3 NA 31 ...\\n $ polity  : int  6 5 5 5 5 5 5 5 5 5 ...\\n $ pop     : num  14988000 15189000 15417000 15599000 15837000 ...\\n $ gdp.pc  : num  461 474 489 508 526 ...\\n $ intresmi: num  1.94 1.96 1.66 2.8 2.26 ...\\n $ signed  : int  0 0 1 0 0 0 0 1 0 0 ...\\n $ fiveop  : num  12.4 12.5 12.3 12.3 12.3 ...\\n $ usheg   : num  0.259 0.256 0.266 0.299 0.295 ...\")"
   ]
  },
  {
   "cell_type": "markdown",
   "metadata": {},
   "source": [
    "일반적인 결측값 처리 방식 = 해당 레코드 전부 삭제.. 결측값이 많은 레코드인 경우 많은 자료가 삭제되어 정보 획득이 어려울 수 있음"
   ]
  },
  {
   "cell_type": "markdown",
   "metadata": {},
   "source": [
    "-> 방지 차원에서 결측값을 해당 변수의 대표값으로 대체할 수 있으나 이 또한 문제가 많음"
   ]
  },
  {
   "cell_type": "markdown",
   "metadata": {},
   "source": [
    "-> 그렇기에 변수들간의 관계를 이용해 imputation을 하는 효율적인 방법이 있다. "
   ]
  },
  {
   "cell_type": "markdown",
   "metadata": {},
   "source": [
    "m은 몇 개의 imputation 데이터세트를 만들지 결정하고, ts는 시계열 정보, cs는 cross-sectional분석에 포함되는 정보다."
   ]
  },
  {
   "cell_type": "markdown",
   "metadata": {},
   "source": [
    "a.out <- amelia(freetrade, m=5, ts=\"year\", cs=\"country\")\n"
   ]
  },
  {
   "cell_type": "code",
   "execution_count": 15,
   "metadata": {},
   "outputs": [
    {
     "name": "stdout",
     "output_type": "stream",
     "text": [
      "-- Imputation 1 --\n",
      "  1  2  3  4  5  6  7  8  9 10 11 12 13 14\n",
      "-- Imputation 2 --\n",
      "  1  2  3  4  5  6  7  8  9 10 11 12 13 14 15 16\n",
      "-- Imputation 3 --\n",
      "  1  2  3  4  5  6  7  8  9 10 11 12 13\n",
      "-- Imputation 4 --\n",
      "  1  2  3  4  5  6  7  8  9 10 11 12 13 14 15 16 17 18 19\n",
      "-- Imputation 5 --\n",
      "  1  2  3  4  5  6  7  8  9 10 11 12 13 14 15\n"
     ]
    }
   ],
   "source": [
    "# 출력\n",
    "print(\"-- Imputation 1 --\\n  1  2  3  4  5  6  7  8  9 10 11 12 13 14\\n-- Imputation 2 --\\n  1  2  3  4  5  6  7  8  9 10 11 12 13 14 15 16\\n-- Imputation 3 --\\n  1  2  3  4  5  6  7  8  9 10 11 12 13\\n-- Imputation 4 --\\n  1  2  3  4  5  6  7  8  9 10 11 12 13 14 15 16 17 18 19\\n-- Imputation 5 --\\n  1  2  3  4  5  6  7  8  9 10 11 12 13 14 15\")"
   ]
  },
  {
   "cell_type": "markdown",
   "metadata": {},
   "source": [
    "hist(a.out$imputations[[3]]$tariff, col=\"grey\", border=\"white\")"
   ]
  },
  {
   "cell_type": "markdown",
   "metadata": {},
   "source": [
    "save(a.out, file = \"imputations.RData\")"
   ]
  },
  {
   "cell_type": "markdown",
   "metadata": {},
   "source": [
    "write.amelia(obj=a.out, file.stem=\"outdata\")"
   ]
  },
  {
   "cell_type": "markdown",
   "metadata": {},
   "source": [
    "위를 통해 a.out은 결측값이 imputation에 의해 대체된 5개의 데이터셋을 포함하고 각 데이터셋이 outdata1.csv,...outdata5.csv로 저장된다."
   ]
  },
  {
   "cell_type": "markdown",
   "metadata": {},
   "source": [
    "missmap(a.out)\n"
   ]
  },
  {
   "cell_type": "markdown",
   "metadata": {},
   "source": [
    "위에서 결측값 처리 전후 변화를 알 수 있고 아래에서는 imputation을 하기 위해 imputation값을 데이터세트에 썼다."
   ]
  },
  {
   "cell_type": "markdown",
   "metadata": {},
   "source": [
    "freetrade$tariff<-a.out$imputation[[5]]$tariff\n"
   ]
  },
  {
   "cell_type": "markdown",
   "metadata": {},
   "source": [
    "missmap(freetrade)"
   ]
  },
  {
   "cell_type": "markdown",
   "metadata": {},
   "source": [
    "## 이상값 검색"
   ]
  },
  {
   "cell_type": "markdown",
   "metadata": {},
   "source": [
    "이상값 검색은 분석에서 전처리를 어떻게 할지 결정할 때, 부정사용방지(Fraud Detection System) 시스템에서 규칙 발견하는 데 사용한다."
   ]
  },
  {
   "cell_type": "markdown",
   "metadata": {},
   "source": [
    "-> 이상값: 의도치 않게 잘못 입력한 경우(a1), 의도치 않게 입력했으나 분석 목적에 부합하지 않아 제거해야하는 경우(a2), 의도하지 않은 현상이지만 분석에 포함해야하는 경우(a3)가 있고 의도된 이상값(b1)이 있는데, b1은 대부분 사기(fraud)이다. "
   ]
  },
  {
   "cell_type": "markdown",
   "metadata": {},
   "source": [
    "a1, a2는 bad data이고, a3, b1은 이상값이다."
   ]
  },
  {
   "cell_type": "markdown",
   "metadata": {},
   "source": [
    "관련 알고리즘으로 ESD가 있는데, 평균에서 k*표준편차만큼 떨어진 값을 이상값으로 판단한다. (보통 k=3으로 둠) 하지만 이상값으로부터 민감하다는 단점이 있다."
   ]
  },
  {
   "cell_type": "markdown",
   "metadata": {},
   "source": [
    "실전에서 이상값을 찾기 위해 많은 시간을 쓰는 것은 좋지 않다.. 변수들에 summary 함수를 통해 평균과 중위수 값을 파악해 사분위수로 판단을 하고, 시간이 더 있다면 주요 변수(dimension)별로 플롯하면서 특성을 알 수 있다. 부정사용방지 프로젝트에서는 여기에 많은 시간을 할당한다."
   ]
  },
  {
   "cell_type": "markdown",
   "metadata": {},
   "source": [
    "조합이 다양해져 변수가 많아지면 표준 데이터를 기준으로 작업할 수 없고 경우에 따라 데이터가 달라지기에 의사결정이 필요하다."
   ]
  },
  {
   "cell_type": "markdown",
   "metadata": {},
   "source": [
    "x = rnorm(100) # 표준정규분포를 따르는 난수 100개 생성"
   ]
  },
  {
   "cell_type": "markdown",
   "metadata": {},
   "source": [
    "boxplot(x) # 이상값이 없다"
   ]
  },
  {
   "cell_type": "markdown",
   "metadata": {},
   "source": [
    "x = c(x,19,28,30) # 고의로 3개의 이상값을 만들었다."
   ]
  },
  {
   "cell_type": "markdown",
   "metadata": {},
   "source": [
    "outwith = boxplot(x) # 여기에서는 이상값이 있음으로 그래프로 알 수 있다."
   ]
  },
  {
   "cell_type": "markdown",
   "metadata": {},
   "source": [
    "outwith$out # 이상값을 프린트한다"
   ]
  },
  {
   "cell_type": "markdown",
   "metadata": {},
   "source": [
    "[1] 19 28 30"
   ]
  },
  {
   "cell_type": "markdown",
   "metadata": {},
   "source": [
    "다른 방법으로는 outliers 패키지로 이상값 가능성이 큰 값을 찾아내는 것임. outlier()함수는 평균과 가장 차이가 큰 값을 보여주고, outlier()함수의 인수(argument)중에 opposite=TRUE를 사용하면 반대편으로 평균과 가장 큰 값을 알려준다."
   ]
  },
  {
   "cell_type": "markdown",
   "metadata": {},
   "source": [
    "install.packages(\"outliers\")"
   ]
  },
  {
   "cell_type": "markdown",
   "metadata": {},
   "source": [
    "library(outliers)"
   ]
  },
  {
   "cell_type": "markdown",
   "metadata": {},
   "source": [
    "set.seed(1234)"
   ]
  },
  {
   "cell_type": "markdown",
   "metadata": {},
   "source": [
    "y = rnorm(100)"
   ]
  },
  {
   "cell_type": "markdown",
   "metadata": {},
   "source": [
    "outlier(y) # 평균과 가장 차이 많이 나는 값 출력"
   ]
  },
  {
   "cell_type": "markdown",
   "metadata": {},
   "source": [
    "[1] 2.548991"
   ]
  },
  {
   "cell_type": "markdown",
   "metadata": {},
   "source": [
    "outlier(y, opposite=TRUE) # 반대방향으로 가장 차이가 많이 나는 값 출력"
   ]
  },
  {
   "cell_type": "markdown",
   "metadata": {},
   "source": [
    "[1] -2.345698"
   ]
  },
  {
   "cell_type": "markdown",
   "metadata": {},
   "source": [
    "dim(y) = c(20,5) # 행 20열 열 5의 행렬 생성"
   ]
  },
  {
   "cell_type": "markdown",
   "metadata": {},
   "source": [
    "outlier(y) # 각 열의 평균과 가장 차이가 많은 값을 각 열별로 출력"
   ]
  },
  {
   "cell_type": "markdown",
   "metadata": {},
   "source": [
    "[1] 2.415835 1.102298 1.647817 2.548991 2.121117"
   ]
  },
  {
   "cell_type": "markdown",
   "metadata": {},
   "source": [
    "outlier(y, opposite=TRUE) # 각 열별로 반대 방향으로 열의 평균과 가장 차이가 많은 값 출력"
   ]
  },
  {
   "cell_type": "markdown",
   "metadata": {},
   "source": [
    "[1] -2.345698 -2.180040 -1.806031 -1.390701 -1.372302"
   ]
  },
  {
   "cell_type": "markdown",
   "metadata": {},
   "source": [
    "boxplot(y)"
   ]
  },
  {
   "cell_type": "markdown",
   "metadata": {},
   "source": [
    "---"
   ]
  },
  {
   "cell_type": "markdown",
   "metadata": {},
   "source": [
    "# 장 요약"
   ]
  },
  {
   "cell_type": "markdown",
   "metadata": {},
   "source": [
    "## R 기초"
   ]
  },
  {
   "cell_type": "markdown",
   "metadata": {},
   "source": [
    "통계 분석을 위해 사용하는 패키지 중 R은 무료이며 계산능력, 그래픽 처리 능력, 확장성이라는 강점을 가지고 있다. R을 사용함으로 복잡한 통계 계산과 데이터 처리를 위한 기법들을 처리하기 위한 복합적인 프로그램을 만들 수 있다."
   ]
  },
  {
   "cell_type": "markdown",
   "metadata": {},
   "source": [
    "## 데이터 마트"
   ]
  },
  {
   "cell_type": "markdown",
   "metadata": {},
   "source": [
    "데이터 마트를 기초정보와 요약변수,파생변수를 이용해 만든다. 데이터 마트 구축시 처음부터 많이 만드는 것보다는 일정 규모를 만들어 효용성을 평가하고 점진적으로 늘려가는 것이 좋다. 이 때 reshape, sqldf, plyr, data table등의 패키지를 활용하는 것이 효율적이다."
   ]
  },
  {
   "cell_type": "markdown",
   "metadata": {},
   "source": [
    "## 결측값 처리와 이상값 검색"
   ]
  },
  {
   "cell_type": "markdown",
   "metadata": {},
   "source": [
    "데이터를 다루다 보면 결측값,이상값이 존재한다. 이럴 때 효율적이면서 적합하게 결측값을 처리하거나 이상값을 검색한다."
   ]
  }
 ],
 "metadata": {
  "kernelspec": {
   "display_name": "Python 3",
   "language": "python",
   "name": "python3"
  },
  "language_info": {
   "codemirror_mode": {
    "name": "ipython",
    "version": 3
   },
   "file_extension": ".py",
   "mimetype": "text/x-python",
   "name": "python",
   "nbconvert_exporter": "python",
   "pygments_lexer": "ipython3",
   "version": "3.7.6"
  }
 },
 "nbformat": 4,
 "nbformat_minor": 4
}
